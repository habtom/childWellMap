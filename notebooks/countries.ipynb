{
 "cells": [
  {
   "cell_type": "code",
   "execution_count": null,
   "id": "3d7a7883-660e-43dc-953b-dd71344afa7b",
   "metadata": {},
   "outputs": [],
   "source": [
    "# list of central African countries with name variations\n",
    "countries = {\n",
    "    \"Angola\": [\"Angola\"],\n",
    "    \"Burundi\": [\"Burundi\"],\n",
    "    \"Cameroon\": [\"Cameroon\"],\n",
    "    \"Central African Republic\": [\"Central African Republic\"],\n",
    "    \"Chad\": [\"Chad\"],\n",
    "    \"Democratic Republic of the Congo\": [\"Democratic Republic of the Congo\", \"DR Congo\"],\n",
    "    \"Equatorial Guinea\": [\"Equatorial Guinea\"],\n",
    "    \"Gabon\": [\"Gabon\"],\n",
    "    \"Republic of the Congo\": [\"Republic of the Congo\", \"Congo\"],\n",
    "    \"Rwanda\": [\"Rwanda\"],\n",
    "    \"São Tomé and Príncipe\": [\"São Tomé and Príncipe\", \"São Tomé & Príncipe\", \"Sao Tome & Principe\"]\n",
    "}"
   ]
  }
 ],
 "metadata": {
  "kernelspec": {
   "display_name": "Python 3 (ipykernel)",
   "language": "python",
   "name": "python3"
  },
  "language_info": {
   "codemirror_mode": {
    "name": "ipython",
    "version": 3
   },
   "file_extension": ".py",
   "mimetype": "text/x-python",
   "name": "python",
   "nbconvert_exporter": "python",
   "pygments_lexer": "ipython3",
   "version": "3.11.7"
  }
 },
 "nbformat": 4,
 "nbformat_minor": 5
}
