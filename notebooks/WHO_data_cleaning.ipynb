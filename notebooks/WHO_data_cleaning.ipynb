{
 "cells": [
  {
   "cell_type": "code",
   "execution_count": 2,
   "id": "8d79bf13-2988-4e0e-812b-83332fdab2a6",
   "metadata": {},
   "outputs": [],
   "source": [
    "### Data cleaning: data from WHO and Worldbank data\n",
    "\n",
    "import pandas as pd\n",
    "import plotly.graph_objects as go\n",
    "import plotly.express as px"
   ]
  },
  {
   "cell_type": "code",
   "execution_count": 43,
   "id": "c13b857c-5cd4-4c83-a331-cfafea8d54a1",
   "metadata": {},
   "outputs": [],
   "source": [
    "#### countries we're interested in\n",
    "countries = [\n",
    "    \"Angola\",\n",
    "    \"Burundi\",\n",
    "    \"Cameroon\",\n",
    "    \"Central African Republic\",\n",
    "    \"Chad\",\n",
    "    \"Democratic Republic of the Congo\",\n",
    "    \"Equatorial Guinea\",\n",
    "    \"Gabon\",\n",
    "    \"Republic of the Congo\",\n",
    "    \"Rwanda\",\n",
    "    \"São Tomé and Príncipe\"\n",
    "]"
   ]
  },
  {
   "cell_type": "code",
   "execution_count": 44,
   "id": "c79d72c8-331c-4311-80fc-c454344d1bde",
   "metadata": {},
   "outputs": [
    {
     "data": {
      "text/html": [
       "<div>\n",
       "<style scoped>\n",
       "    .dataframe tbody tr th:only-of-type {\n",
       "        vertical-align: middle;\n",
       "    }\n",
       "\n",
       "    .dataframe tbody tr th {\n",
       "        vertical-align: top;\n",
       "    }\n",
       "\n",
       "    .dataframe thead th {\n",
       "        text-align: right;\n",
       "    }\n",
       "</style>\n",
       "<table border=\"1\" class=\"dataframe\">\n",
       "  <thead>\n",
       "    <tr style=\"text-align: right;\">\n",
       "      <th></th>\n",
       "      <th>IndicatorCode</th>\n",
       "      <th>Indicator</th>\n",
       "      <th>ValueType</th>\n",
       "      <th>ParentLocationCode</th>\n",
       "      <th>ParentLocation</th>\n",
       "      <th>Location type</th>\n",
       "      <th>SpatialDimValueCode</th>\n",
       "      <th>Location</th>\n",
       "      <th>Period type</th>\n",
       "      <th>Period</th>\n",
       "      <th>...</th>\n",
       "      <th>FactValueUoM</th>\n",
       "      <th>FactValueNumericLowPrefix</th>\n",
       "      <th>FactValueNumericLow</th>\n",
       "      <th>FactValueNumericHighPrefix</th>\n",
       "      <th>FactValueNumericHigh</th>\n",
       "      <th>Value</th>\n",
       "      <th>FactValueTranslationID</th>\n",
       "      <th>FactComments</th>\n",
       "      <th>Language</th>\n",
       "      <th>DateModified</th>\n",
       "    </tr>\n",
       "  </thead>\n",
       "  <tbody>\n",
       "    <tr>\n",
       "      <th>0</th>\n",
       "      <td>HWF_0001</td>\n",
       "      <td>Medical doctors (per 10,000)</td>\n",
       "      <td>numeric</td>\n",
       "      <td>AFR</td>\n",
       "      <td>Africa</td>\n",
       "      <td>Country</td>\n",
       "      <td>TCD</td>\n",
       "      <td>Chad</td>\n",
       "      <td>Year</td>\n",
       "      <td>2021</td>\n",
       "      <td>...</td>\n",
       "      <td>NaN</td>\n",
       "      <td>NaN</td>\n",
       "      <td>NaN</td>\n",
       "      <td>NaN</td>\n",
       "      <td>NaN</td>\n",
       "      <td>0.582</td>\n",
       "      <td>NaN</td>\n",
       "      <td>NaN</td>\n",
       "      <td>EN</td>\n",
       "      <td>2023-01-11T23:00:00.000Z</td>\n",
       "    </tr>\n",
       "    <tr>\n",
       "      <th>1</th>\n",
       "      <td>HWF_0001</td>\n",
       "      <td>Medical doctors (per 10,000)</td>\n",
       "      <td>numeric</td>\n",
       "      <td>AFR</td>\n",
       "      <td>Africa</td>\n",
       "      <td>Country</td>\n",
       "      <td>TGO</td>\n",
       "      <td>Togo</td>\n",
       "      <td>Year</td>\n",
       "      <td>2021</td>\n",
       "      <td>...</td>\n",
       "      <td>NaN</td>\n",
       "      <td>NaN</td>\n",
       "      <td>NaN</td>\n",
       "      <td>NaN</td>\n",
       "      <td>NaN</td>\n",
       "      <td>0.585</td>\n",
       "      <td>NaN</td>\n",
       "      <td>NaN</td>\n",
       "      <td>EN</td>\n",
       "      <td>2023-01-11T23:00:00.000Z</td>\n",
       "    </tr>\n",
       "    <tr>\n",
       "      <th>2</th>\n",
       "      <td>HWF_0001</td>\n",
       "      <td>Medical doctors (per 10,000)</td>\n",
       "      <td>numeric</td>\n",
       "      <td>WPR</td>\n",
       "      <td>Western Pacific</td>\n",
       "      <td>Country</td>\n",
       "      <td>PNG</td>\n",
       "      <td>Papua New Guinea</td>\n",
       "      <td>Year</td>\n",
       "      <td>2021</td>\n",
       "      <td>...</td>\n",
       "      <td>NaN</td>\n",
       "      <td>NaN</td>\n",
       "      <td>NaN</td>\n",
       "      <td>NaN</td>\n",
       "      <td>NaN</td>\n",
       "      <td>0.629</td>\n",
       "      <td>NaN</td>\n",
       "      <td>NaN</td>\n",
       "      <td>EN</td>\n",
       "      <td>2023-01-11T23:00:00.000Z</td>\n",
       "    </tr>\n",
       "    <tr>\n",
       "      <th>3</th>\n",
       "      <td>HWF_0001</td>\n",
       "      <td>Medical doctors (per 10,000)</td>\n",
       "      <td>numeric</td>\n",
       "      <td>AFR</td>\n",
       "      <td>Africa</td>\n",
       "      <td>Country</td>\n",
       "      <td>BDI</td>\n",
       "      <td>Burundi</td>\n",
       "      <td>Year</td>\n",
       "      <td>2021</td>\n",
       "      <td>...</td>\n",
       "      <td>NaN</td>\n",
       "      <td>NaN</td>\n",
       "      <td>NaN</td>\n",
       "      <td>NaN</td>\n",
       "      <td>NaN</td>\n",
       "      <td>0.647</td>\n",
       "      <td>NaN</td>\n",
       "      <td>NaN</td>\n",
       "      <td>EN</td>\n",
       "      <td>2023-01-11T23:00:00.000Z</td>\n",
       "    </tr>\n",
       "    <tr>\n",
       "      <th>4</th>\n",
       "      <td>HWF_0001</td>\n",
       "      <td>Medical doctors (per 10,000)</td>\n",
       "      <td>numeric</td>\n",
       "      <td>AFR</td>\n",
       "      <td>Africa</td>\n",
       "      <td>Country</td>\n",
       "      <td>MOZ</td>\n",
       "      <td>Mozambique</td>\n",
       "      <td>Year</td>\n",
       "      <td>2021</td>\n",
       "      <td>...</td>\n",
       "      <td>NaN</td>\n",
       "      <td>NaN</td>\n",
       "      <td>NaN</td>\n",
       "      <td>NaN</td>\n",
       "      <td>NaN</td>\n",
       "      <td>0.814</td>\n",
       "      <td>NaN</td>\n",
       "      <td>NaN</td>\n",
       "      <td>EN</td>\n",
       "      <td>2023-01-11T23:00:00.000Z</td>\n",
       "    </tr>\n",
       "    <tr>\n",
       "      <th>...</th>\n",
       "      <td>...</td>\n",
       "      <td>...</td>\n",
       "      <td>...</td>\n",
       "      <td>...</td>\n",
       "      <td>...</td>\n",
       "      <td>...</td>\n",
       "      <td>...</td>\n",
       "      <td>...</td>\n",
       "      <td>...</td>\n",
       "      <td>...</td>\n",
       "      <td>...</td>\n",
       "      <td>...</td>\n",
       "      <td>...</td>\n",
       "      <td>...</td>\n",
       "      <td>...</td>\n",
       "      <td>...</td>\n",
       "      <td>...</td>\n",
       "      <td>...</td>\n",
       "      <td>...</td>\n",
       "      <td>...</td>\n",
       "      <td>...</td>\n",
       "    </tr>\n",
       "    <tr>\n",
       "      <th>2898</th>\n",
       "      <td>HWF_0001</td>\n",
       "      <td>Medical doctors (per 10,000)</td>\n",
       "      <td>numeric</td>\n",
       "      <td>EMR</td>\n",
       "      <td>Eastern Mediterranean</td>\n",
       "      <td>Country</td>\n",
       "      <td>OMN</td>\n",
       "      <td>Oman</td>\n",
       "      <td>Year</td>\n",
       "      <td>1990</td>\n",
       "      <td>...</td>\n",
       "      <td>NaN</td>\n",
       "      <td>NaN</td>\n",
       "      <td>NaN</td>\n",
       "      <td>NaN</td>\n",
       "      <td>NaN</td>\n",
       "      <td>7.986</td>\n",
       "      <td>NaN</td>\n",
       "      <td>NaN</td>\n",
       "      <td>EN</td>\n",
       "      <td>2023-01-11T23:00:00.000Z</td>\n",
       "    </tr>\n",
       "    <tr>\n",
       "      <th>2899</th>\n",
       "      <td>HWF_0001</td>\n",
       "      <td>Medical doctors (per 10,000)</td>\n",
       "      <td>numeric</td>\n",
       "      <td>AMR</td>\n",
       "      <td>Americas</td>\n",
       "      <td>Country</td>\n",
       "      <td>COL</td>\n",
       "      <td>Colombia</td>\n",
       "      <td>Year</td>\n",
       "      <td>1990</td>\n",
       "      <td>...</td>\n",
       "      <td>NaN</td>\n",
       "      <td>NaN</td>\n",
       "      <td>NaN</td>\n",
       "      <td>NaN</td>\n",
       "      <td>NaN</td>\n",
       "      <td>8.028</td>\n",
       "      <td>NaN</td>\n",
       "      <td>NaN</td>\n",
       "      <td>EN</td>\n",
       "      <td>2023-01-11T23:00:00.000Z</td>\n",
       "    </tr>\n",
       "    <tr>\n",
       "      <th>2900</th>\n",
       "      <td>HWF_0001</td>\n",
       "      <td>Medical doctors (per 10,000)</td>\n",
       "      <td>numeric</td>\n",
       "      <td>WPR</td>\n",
       "      <td>Western Pacific</td>\n",
       "      <td>Country</td>\n",
       "      <td>KOR</td>\n",
       "      <td>Republic of Korea</td>\n",
       "      <td>Year</td>\n",
       "      <td>1990</td>\n",
       "      <td>...</td>\n",
       "      <td>NaN</td>\n",
       "      <td>NaN</td>\n",
       "      <td>NaN</td>\n",
       "      <td>NaN</td>\n",
       "      <td>NaN</td>\n",
       "      <td>8.110</td>\n",
       "      <td>NaN</td>\n",
       "      <td>NaN</td>\n",
       "      <td>EN</td>\n",
       "      <td>2023-01-11T23:00:00.000Z</td>\n",
       "    </tr>\n",
       "    <tr>\n",
       "      <th>2901</th>\n",
       "      <td>HWF_0001</td>\n",
       "      <td>Medical doctors (per 10,000)</td>\n",
       "      <td>numeric</td>\n",
       "      <td>EUR</td>\n",
       "      <td>Europe</td>\n",
       "      <td>Country</td>\n",
       "      <td>TUR</td>\n",
       "      <td>Türkiye</td>\n",
       "      <td>Year</td>\n",
       "      <td>1990</td>\n",
       "      <td>...</td>\n",
       "      <td>NaN</td>\n",
       "      <td>NaN</td>\n",
       "      <td>NaN</td>\n",
       "      <td>NaN</td>\n",
       "      <td>NaN</td>\n",
       "      <td>9.322</td>\n",
       "      <td>NaN</td>\n",
       "      <td>NaN</td>\n",
       "      <td>EN</td>\n",
       "      <td>2023-01-11T23:00:00.000Z</td>\n",
       "    </tr>\n",
       "    <tr>\n",
       "      <th>2902</th>\n",
       "      <td>HWF_0001</td>\n",
       "      <td>Medical doctors (per 10,000)</td>\n",
       "      <td>numeric</td>\n",
       "      <td>AMR</td>\n",
       "      <td>Americas</td>\n",
       "      <td>Country</td>\n",
       "      <td>ECU</td>\n",
       "      <td>Ecuador</td>\n",
       "      <td>Year</td>\n",
       "      <td>1990</td>\n",
       "      <td>...</td>\n",
       "      <td>NaN</td>\n",
       "      <td>NaN</td>\n",
       "      <td>NaN</td>\n",
       "      <td>NaN</td>\n",
       "      <td>NaN</td>\n",
       "      <td>9.364</td>\n",
       "      <td>NaN</td>\n",
       "      <td>NaN</td>\n",
       "      <td>EN</td>\n",
       "      <td>2023-01-11T23:00:00.000Z</td>\n",
       "    </tr>\n",
       "  </tbody>\n",
       "</table>\n",
       "<p>2903 rows × 34 columns</p>\n",
       "</div>"
      ],
      "text/plain": [
       "     IndicatorCode                     Indicator ValueType ParentLocationCode  \\\n",
       "0         HWF_0001  Medical doctors (per 10,000)   numeric                AFR   \n",
       "1         HWF_0001  Medical doctors (per 10,000)   numeric                AFR   \n",
       "2         HWF_0001  Medical doctors (per 10,000)   numeric                WPR   \n",
       "3         HWF_0001  Medical doctors (per 10,000)   numeric                AFR   \n",
       "4         HWF_0001  Medical doctors (per 10,000)   numeric                AFR   \n",
       "...            ...                           ...       ...                ...   \n",
       "2898      HWF_0001  Medical doctors (per 10,000)   numeric                EMR   \n",
       "2899      HWF_0001  Medical doctors (per 10,000)   numeric                AMR   \n",
       "2900      HWF_0001  Medical doctors (per 10,000)   numeric                WPR   \n",
       "2901      HWF_0001  Medical doctors (per 10,000)   numeric                EUR   \n",
       "2902      HWF_0001  Medical doctors (per 10,000)   numeric                AMR   \n",
       "\n",
       "             ParentLocation Location type SpatialDimValueCode  \\\n",
       "0                    Africa       Country                 TCD   \n",
       "1                    Africa       Country                 TGO   \n",
       "2           Western Pacific       Country                 PNG   \n",
       "3                    Africa       Country                 BDI   \n",
       "4                    Africa       Country                 MOZ   \n",
       "...                     ...           ...                 ...   \n",
       "2898  Eastern Mediterranean       Country                 OMN   \n",
       "2899               Americas       Country                 COL   \n",
       "2900        Western Pacific       Country                 KOR   \n",
       "2901                 Europe       Country                 TUR   \n",
       "2902               Americas       Country                 ECU   \n",
       "\n",
       "               Location Period type  Period  ...  FactValueUoM  \\\n",
       "0                  Chad        Year    2021  ...           NaN   \n",
       "1                  Togo        Year    2021  ...           NaN   \n",
       "2      Papua New Guinea        Year    2021  ...           NaN   \n",
       "3               Burundi        Year    2021  ...           NaN   \n",
       "4            Mozambique        Year    2021  ...           NaN   \n",
       "...                 ...         ...     ...  ...           ...   \n",
       "2898               Oman        Year    1990  ...           NaN   \n",
       "2899           Colombia        Year    1990  ...           NaN   \n",
       "2900  Republic of Korea        Year    1990  ...           NaN   \n",
       "2901            Türkiye        Year    1990  ...           NaN   \n",
       "2902            Ecuador        Year    1990  ...           NaN   \n",
       "\n",
       "      FactValueNumericLowPrefix  FactValueNumericLow  \\\n",
       "0                           NaN                  NaN   \n",
       "1                           NaN                  NaN   \n",
       "2                           NaN                  NaN   \n",
       "3                           NaN                  NaN   \n",
       "4                           NaN                  NaN   \n",
       "...                         ...                  ...   \n",
       "2898                        NaN                  NaN   \n",
       "2899                        NaN                  NaN   \n",
       "2900                        NaN                  NaN   \n",
       "2901                        NaN                  NaN   \n",
       "2902                        NaN                  NaN   \n",
       "\n",
       "      FactValueNumericHighPrefix  FactValueNumericHigh  Value  \\\n",
       "0                            NaN                   NaN  0.582   \n",
       "1                            NaN                   NaN  0.585   \n",
       "2                            NaN                   NaN  0.629   \n",
       "3                            NaN                   NaN  0.647   \n",
       "4                            NaN                   NaN  0.814   \n",
       "...                          ...                   ...    ...   \n",
       "2898                         NaN                   NaN  7.986   \n",
       "2899                         NaN                   NaN  8.028   \n",
       "2900                         NaN                   NaN  8.110   \n",
       "2901                         NaN                   NaN  9.322   \n",
       "2902                         NaN                   NaN  9.364   \n",
       "\n",
       "      FactValueTranslationID  FactComments  Language              DateModified  \n",
       "0                        NaN           NaN        EN  2023-01-11T23:00:00.000Z  \n",
       "1                        NaN           NaN        EN  2023-01-11T23:00:00.000Z  \n",
       "2                        NaN           NaN        EN  2023-01-11T23:00:00.000Z  \n",
       "3                        NaN           NaN        EN  2023-01-11T23:00:00.000Z  \n",
       "4                        NaN           NaN        EN  2023-01-11T23:00:00.000Z  \n",
       "...                      ...           ...       ...                       ...  \n",
       "2898                     NaN           NaN        EN  2023-01-11T23:00:00.000Z  \n",
       "2899                     NaN           NaN        EN  2023-01-11T23:00:00.000Z  \n",
       "2900                     NaN           NaN        EN  2023-01-11T23:00:00.000Z  \n",
       "2901                     NaN           NaN        EN  2023-01-11T23:00:00.000Z  \n",
       "2902                     NaN           NaN        EN  2023-01-11T23:00:00.000Z  \n",
       "\n",
       "[2903 rows x 34 columns]"
      ]
     },
     "execution_count": 44,
     "metadata": {},
     "output_type": "execute_result"
    }
   ],
   "source": [
    "# medical doctors per 10,000\n",
    "df_md = pd.read_csv(\"MD_10000.csv\")\n",
    "df_md.head()\n",
    "\n",
    "df_md"
   ]
  },
  {
   "cell_type": "code",
   "execution_count": 5,
   "id": "46c8ecf0-0ab9-48bc-9cdb-a37664e5ee56",
   "metadata": {},
   "outputs": [
    {
     "name": "stdout",
     "output_type": "stream",
     "text": [
      "IndicatorCode\n",
      "Indicator\n",
      "ValueType\n",
      "ParentLocationCode\n",
      "ParentLocation\n",
      "Location type\n",
      "SpatialDimValueCode\n",
      "Location\n",
      "Period type\n",
      "Period\n",
      "IsLatestYear\n",
      "Dim1 type\n",
      "Dim1\n",
      "Dim1ValueCode\n",
      "Dim2 type\n",
      "Dim2\n",
      "Dim2ValueCode\n",
      "Dim3 type\n",
      "Dim3\n",
      "Dim3ValueCode\n",
      "DataSourceDimValueCode\n",
      "DataSource\n",
      "FactValueNumericPrefix\n",
      "FactValueNumeric\n",
      "FactValueUoM\n",
      "FactValueNumericLowPrefix\n",
      "FactValueNumericLow\n",
      "FactValueNumericHighPrefix\n",
      "FactValueNumericHigh\n",
      "Value\n",
      "FactValueTranslationID\n",
      "FactComments\n",
      "Language\n",
      "DateModified\n"
     ]
    }
   ],
   "source": [
    "for col in df_md.columns:\n",
    "    print(col)"
   ]
  },
  {
   "cell_type": "code",
   "execution_count": 45,
   "id": "983a8b92-eafb-495c-9ebe-c1311fabf251",
   "metadata": {},
   "outputs": [
    {
     "data": {
      "text/plain": [
       "0        True\n",
       "1        True\n",
       "2        True\n",
       "3        True\n",
       "4        True\n",
       "        ...  \n",
       "2898    False\n",
       "2899    False\n",
       "2900    False\n",
       "2901    False\n",
       "2902    False\n",
       "Name: IsLatestYear, Length: 2903, dtype: bool"
      ]
     },
     "execution_count": 45,
     "metadata": {},
     "output_type": "execute_result"
    }
   ],
   "source": [
    " df_md[\"IsLatestYear\"]"
   ]
  },
  {
   "cell_type": "code",
   "execution_count": 46,
   "id": "1399e68e-96fa-4f13-a7da-f4f9c6c1d777",
   "metadata": {},
   "outputs": [
    {
     "data": {
      "text/plain": [
       "(195, 34)"
      ]
     },
     "execution_count": 46,
     "metadata": {},
     "output_type": "execute_result"
    }
   ],
   "source": [
    "### keep data from latest year -> only work with this\n",
    "## 195 countries\n",
    "df_md_work = df_md[df_md[\"IsLatestYear\"] == True]\n",
    "df_md_work.shape"
   ]
  },
  {
   "cell_type": "code",
   "execution_count": 47,
   "id": "1d07982a-4336-44e6-ada6-f2692d19b3c1",
   "metadata": {},
   "outputs": [
    {
     "data": {
      "text/html": [
       "<div>\n",
       "<style scoped>\n",
       "    .dataframe tbody tr th:only-of-type {\n",
       "        vertical-align: middle;\n",
       "    }\n",
       "\n",
       "    .dataframe tbody tr th {\n",
       "        vertical-align: top;\n",
       "    }\n",
       "\n",
       "    .dataframe thead th {\n",
       "        text-align: right;\n",
       "    }\n",
       "</style>\n",
       "<table border=\"1\" class=\"dataframe\">\n",
       "  <thead>\n",
       "    <tr style=\"text-align: right;\">\n",
       "      <th></th>\n",
       "      <th>ParentLocation</th>\n",
       "      <th>ParentLocationCode</th>\n",
       "      <th>Location</th>\n",
       "      <th>Medical Doctors per 10k inhabitants</th>\n",
       "    </tr>\n",
       "  </thead>\n",
       "  <tbody>\n",
       "    <tr>\n",
       "      <th>0</th>\n",
       "      <td>Africa</td>\n",
       "      <td>AFR</td>\n",
       "      <td>Chad</td>\n",
       "      <td>0.582</td>\n",
       "    </tr>\n",
       "    <tr>\n",
       "      <th>1</th>\n",
       "      <td>Africa</td>\n",
       "      <td>AFR</td>\n",
       "      <td>Togo</td>\n",
       "      <td>0.585</td>\n",
       "    </tr>\n",
       "    <tr>\n",
       "      <th>2</th>\n",
       "      <td>Western Pacific</td>\n",
       "      <td>WPR</td>\n",
       "      <td>Papua New Guinea</td>\n",
       "      <td>0.629</td>\n",
       "    </tr>\n",
       "    <tr>\n",
       "      <th>3</th>\n",
       "      <td>Africa</td>\n",
       "      <td>AFR</td>\n",
       "      <td>Burundi</td>\n",
       "      <td>0.647</td>\n",
       "    </tr>\n",
       "    <tr>\n",
       "      <th>4</th>\n",
       "      <td>Africa</td>\n",
       "      <td>AFR</td>\n",
       "      <td>Mozambique</td>\n",
       "      <td>0.814</td>\n",
       "    </tr>\n",
       "  </tbody>\n",
       "</table>\n",
       "</div>"
      ],
      "text/plain": [
       "    ParentLocation ParentLocationCode          Location  \\\n",
       "0           Africa                AFR              Chad   \n",
       "1           Africa                AFR              Togo   \n",
       "2  Western Pacific                WPR  Papua New Guinea   \n",
       "3           Africa                AFR           Burundi   \n",
       "4           Africa                AFR        Mozambique   \n",
       "\n",
       "   Medical Doctors per 10k inhabitants  \n",
       "0                                0.582  \n",
       "1                                0.585  \n",
       "2                                0.629  \n",
       "3                                0.647  \n",
       "4                                0.814  "
      ]
     },
     "execution_count": 47,
     "metadata": {},
     "output_type": "execute_result"
    }
   ],
   "source": [
    "### Keep variables of interest:\n",
    "# Country, Country Code, Value of indicator, Year of data\n",
    "df_md_work = df_md_work[[\"ParentLocation\", \"ParentLocationCode\", \"Location\", \"Value\"]]\n",
    "\n",
    "df_md_merge = df_md_work.rename(columns = {\"Value\" : \"Medical Doctors per 10k inhabitants\"})\n",
    "\n",
    "df_md_merge.head()\n",
    "\n"
   ]
  },
  {
   "cell_type": "code",
   "execution_count": null,
   "id": "89aca783-3b37-4924-bc86-c233ba0da4dc",
   "metadata": {},
   "outputs": [],
   "source": []
  },
  {
   "cell_type": "code",
   "execution_count": 12,
   "id": "5b7cab0e-d4cb-4fb6-9b04-2db7640cd80f",
   "metadata": {},
   "outputs": [
    {
     "data": {
      "text/html": [
       "<div>\n",
       "<style scoped>\n",
       "    .dataframe tbody tr th:only-of-type {\n",
       "        vertical-align: middle;\n",
       "    }\n",
       "\n",
       "    .dataframe tbody tr th {\n",
       "        vertical-align: top;\n",
       "    }\n",
       "\n",
       "    .dataframe thead th {\n",
       "        text-align: right;\n",
       "    }\n",
       "</style>\n",
       "<table border=\"1\" class=\"dataframe\">\n",
       "  <thead>\n",
       "    <tr style=\"text-align: right;\">\n",
       "      <th></th>\n",
       "      <th>IndicatorCode</th>\n",
       "      <th>Indicator</th>\n",
       "      <th>ValueType</th>\n",
       "      <th>ParentLocationCode</th>\n",
       "      <th>ParentLocation</th>\n",
       "      <th>Location type</th>\n",
       "      <th>SpatialDimValueCode</th>\n",
       "      <th>Location</th>\n",
       "      <th>Period type</th>\n",
       "      <th>Period</th>\n",
       "      <th>...</th>\n",
       "      <th>FactValueUoM</th>\n",
       "      <th>FactValueNumericLowPrefix</th>\n",
       "      <th>FactValueNumericLow</th>\n",
       "      <th>FactValueNumericHighPrefix</th>\n",
       "      <th>FactValueNumericHigh</th>\n",
       "      <th>Value</th>\n",
       "      <th>FactValueTranslationID</th>\n",
       "      <th>FactComments</th>\n",
       "      <th>Language</th>\n",
       "      <th>DateModified</th>\n",
       "    </tr>\n",
       "  </thead>\n",
       "  <tbody>\n",
       "    <tr>\n",
       "      <th>0</th>\n",
       "      <td>u5mr</td>\n",
       "      <td>Under-five mortality rate (deaths per 1000 liv...</td>\n",
       "      <td>numeric</td>\n",
       "      <td>AMR</td>\n",
       "      <td>Americas</td>\n",
       "      <td>Country</td>\n",
       "      <td>PER</td>\n",
       "      <td>Peru</td>\n",
       "      <td>Year</td>\n",
       "      <td>2020</td>\n",
       "      <td>...</td>\n",
       "      <td>NaN</td>\n",
       "      <td>NaN</td>\n",
       "      <td>11.39</td>\n",
       "      <td>NaN</td>\n",
       "      <td>16.53</td>\n",
       "      <td>14.0 [11.4-16.5]</td>\n",
       "      <td>NaN</td>\n",
       "      <td>NaN</td>\n",
       "      <td>EN</td>\n",
       "      <td>2022-05-25T22:00:00.000Z</td>\n",
       "    </tr>\n",
       "    <tr>\n",
       "      <th>1</th>\n",
       "      <td>u5mr</td>\n",
       "      <td>Under-five mortality rate (deaths per 1000 liv...</td>\n",
       "      <td>numeric</td>\n",
       "      <td>AMR</td>\n",
       "      <td>Americas</td>\n",
       "      <td>Country</td>\n",
       "      <td>PER</td>\n",
       "      <td>Peru</td>\n",
       "      <td>Year</td>\n",
       "      <td>2020</td>\n",
       "      <td>...</td>\n",
       "      <td>NaN</td>\n",
       "      <td>NaN</td>\n",
       "      <td>17.23</td>\n",
       "      <td>NaN</td>\n",
       "      <td>32.43</td>\n",
       "      <td>24.8 [17.2-32.4]</td>\n",
       "      <td>NaN</td>\n",
       "      <td>NaN</td>\n",
       "      <td>EN</td>\n",
       "      <td>2022-05-25T22:00:00.000Z</td>\n",
       "    </tr>\n",
       "    <tr>\n",
       "      <th>2</th>\n",
       "      <td>u5mr</td>\n",
       "      <td>Under-five mortality rate (deaths per 1000 liv...</td>\n",
       "      <td>numeric</td>\n",
       "      <td>AFR</td>\n",
       "      <td>Africa</td>\n",
       "      <td>Country</td>\n",
       "      <td>LBR</td>\n",
       "      <td>Liberia</td>\n",
       "      <td>Year</td>\n",
       "      <td>2019</td>\n",
       "      <td>...</td>\n",
       "      <td>NaN</td>\n",
       "      <td>NaN</td>\n",
       "      <td>89.56</td>\n",
       "      <td>NaN</td>\n",
       "      <td>129.10</td>\n",
       "      <td>109.3 [89.6-129.1]</td>\n",
       "      <td>NaN</td>\n",
       "      <td>NaN</td>\n",
       "      <td>EN</td>\n",
       "      <td>2022-05-25T22:00:00.000Z</td>\n",
       "    </tr>\n",
       "    <tr>\n",
       "      <th>3</th>\n",
       "      <td>u5mr</td>\n",
       "      <td>Under-five mortality rate (deaths per 1000 liv...</td>\n",
       "      <td>numeric</td>\n",
       "      <td>WPR</td>\n",
       "      <td>Western Pacific</td>\n",
       "      <td>Country</td>\n",
       "      <td>TON</td>\n",
       "      <td>Tonga</td>\n",
       "      <td>Year</td>\n",
       "      <td>2019</td>\n",
       "      <td>...</td>\n",
       "      <td>NaN</td>\n",
       "      <td>NaN</td>\n",
       "      <td>5.23</td>\n",
       "      <td>NaN</td>\n",
       "      <td>16.99</td>\n",
       "      <td>11.1 [5.2-17.0]</td>\n",
       "      <td>NaN</td>\n",
       "      <td>NaN</td>\n",
       "      <td>EN</td>\n",
       "      <td>2022-05-25T22:00:00.000Z</td>\n",
       "    </tr>\n",
       "    <tr>\n",
       "      <th>4</th>\n",
       "      <td>u5mr</td>\n",
       "      <td>Under-five mortality rate (deaths per 1000 liv...</td>\n",
       "      <td>numeric</td>\n",
       "      <td>AFR</td>\n",
       "      <td>Africa</td>\n",
       "      <td>Country</td>\n",
       "      <td>TCD</td>\n",
       "      <td>Chad</td>\n",
       "      <td>Year</td>\n",
       "      <td>2019</td>\n",
       "      <td>...</td>\n",
       "      <td>NaN</td>\n",
       "      <td>NaN</td>\n",
       "      <td>106.40</td>\n",
       "      <td>NaN</td>\n",
       "      <td>121.50</td>\n",
       "      <td>113.9 [106.4-121.5]</td>\n",
       "      <td>NaN</td>\n",
       "      <td>NaN</td>\n",
       "      <td>EN</td>\n",
       "      <td>2022-05-25T22:00:00.000Z</td>\n",
       "    </tr>\n",
       "  </tbody>\n",
       "</table>\n",
       "<p>5 rows × 34 columns</p>\n",
       "</div>"
      ],
      "text/plain": [
       "  IndicatorCode                                          Indicator ValueType  \\\n",
       "0          u5mr  Under-five mortality rate (deaths per 1000 liv...   numeric   \n",
       "1          u5mr  Under-five mortality rate (deaths per 1000 liv...   numeric   \n",
       "2          u5mr  Under-five mortality rate (deaths per 1000 liv...   numeric   \n",
       "3          u5mr  Under-five mortality rate (deaths per 1000 liv...   numeric   \n",
       "4          u5mr  Under-five mortality rate (deaths per 1000 liv...   numeric   \n",
       "\n",
       "  ParentLocationCode   ParentLocation Location type SpatialDimValueCode  \\\n",
       "0                AMR         Americas       Country                 PER   \n",
       "1                AMR         Americas       Country                 PER   \n",
       "2                AFR           Africa       Country                 LBR   \n",
       "3                WPR  Western Pacific       Country                 TON   \n",
       "4                AFR           Africa       Country                 TCD   \n",
       "\n",
       "  Location Period type  Period  ...  FactValueUoM FactValueNumericLowPrefix  \\\n",
       "0     Peru        Year    2020  ...           NaN                       NaN   \n",
       "1     Peru        Year    2020  ...           NaN                       NaN   \n",
       "2  Liberia        Year    2019  ...           NaN                       NaN   \n",
       "3    Tonga        Year    2019  ...           NaN                       NaN   \n",
       "4     Chad        Year    2019  ...           NaN                       NaN   \n",
       "\n",
       "  FactValueNumericLow FactValueNumericHighPrefix  FactValueNumericHigh  \\\n",
       "0               11.39                        NaN                 16.53   \n",
       "1               17.23                        NaN                 32.43   \n",
       "2               89.56                        NaN                129.10   \n",
       "3                5.23                        NaN                 16.99   \n",
       "4              106.40                        NaN                121.50   \n",
       "\n",
       "                 Value  FactValueTranslationID  FactComments  Language  \\\n",
       "0     14.0 [11.4-16.5]                     NaN           NaN        EN   \n",
       "1     24.8 [17.2-32.4]                     NaN           NaN        EN   \n",
       "2   109.3 [89.6-129.1]                     NaN           NaN        EN   \n",
       "3      11.1 [5.2-17.0]                     NaN           NaN        EN   \n",
       "4  113.9 [106.4-121.5]                     NaN           NaN        EN   \n",
       "\n",
       "               DateModified  \n",
       "0  2022-05-25T22:00:00.000Z  \n",
       "1  2022-05-25T22:00:00.000Z  \n",
       "2  2022-05-25T22:00:00.000Z  \n",
       "3  2022-05-25T22:00:00.000Z  \n",
       "4  2022-05-25T22:00:00.000Z  \n",
       "\n",
       "[5 rows x 34 columns]"
      ]
     },
     "execution_count": 12,
     "metadata": {},
     "output_type": "execute_result"
    }
   ],
   "source": [
    "df_under5 = pd.read_csv(\"under_five.csv\")\n",
    "df_under5.head()"
   ]
  },
  {
   "cell_type": "code",
   "execution_count": null,
   "id": "c47e97ac-b877-4ca5-a8e9-30527233bcc3",
   "metadata": {},
   "outputs": [],
   "source": [
    "### check if all needed countries are present in data set\n",
    "print(df_under5[\"Location\"].unique())"
   ]
  },
  {
   "cell_type": "code",
   "execution_count": 25,
   "id": "16936707-1594-4915-97be-416933dad542",
   "metadata": {},
   "outputs": [
    {
     "data": {
      "text/plain": [
       "Index(['IndicatorCode', 'Indicator', 'ValueType', 'ParentLocationCode',\n",
       "       'ParentLocation', 'Location type', 'SpatialDimValueCode', 'Location',\n",
       "       'Period type', 'Period', 'IsLatestYear', 'Dim1 type', 'Dim1',\n",
       "       'Dim1ValueCode', 'Dim2 type', 'Dim2', 'Dim2ValueCode', 'Dim3 type',\n",
       "       'Dim3', 'Dim3ValueCode', 'DataSourceDimValueCode', 'DataSource',\n",
       "       'FactValueNumericPrefix', 'FactValueNumeric', 'FactValueUoM',\n",
       "       'FactValueNumericLowPrefix', 'FactValueNumericLow',\n",
       "       'FactValueNumericHighPrefix', 'FactValueNumericHigh', 'Value',\n",
       "       'FactValueTranslationID', 'FactComments', 'Language', 'DateModified'],\n",
       "      dtype='object')"
      ]
     },
     "execution_count": 25,
     "metadata": {},
     "output_type": "execute_result"
    }
   ],
   "source": [
    "df_under5.columns"
   ]
  },
  {
   "cell_type": "code",
   "execution_count": 36,
   "id": "abb4b2bf-e812-4c1e-b591-562e66f3bc25",
   "metadata": {},
   "outputs": [
    {
     "name": "stdout",
     "output_type": "stream",
     "text": [
      "(234, 34)\n"
     ]
    },
    {
     "data": {
      "text/plain": [
       "0       13.96\n",
       "1       24.83\n",
       "2      109.30\n",
       "3       11.11\n",
       "4      113.90\n",
       "        ...  \n",
       "528     75.97\n",
       "669     51.02\n",
       "672     72.69\n",
       "806     54.72\n",
       "810     64.18\n",
       "Name: FactValueNumeric, Length: 175, dtype: float64"
      ]
     },
     "execution_count": 36,
     "metadata": {},
     "output_type": "execute_result"
    }
   ],
   "source": [
    "df_under5_work = df_under5[df_under5[\"IsLatestYear\"] == True]\n",
    "print(df_under5_work.shape)\n",
    "\n",
    "# drop Na rows\n",
    "df_under5_work = df_under5_work.dropna(subset=['FactValueNumeric'])\n",
    "\n",
    "df_under5_work[\"FactValueNumeric\"]\n"
   ]
  },
  {
   "cell_type": "code",
   "execution_count": 40,
   "id": "b66845db-2832-49f3-9ef0-b9e20fead043",
   "metadata": {},
   "outputs": [],
   "source": [
    "## under 5 mortality is reported for two maternal age groups in some countries:\n",
    "## first approach: take the mean of the two values\n",
    "\n",
    "# set country as index or reset_index() after grouping\n",
    "group_df = df_under5_work.groupby(\"Location\").mean(numeric_only=True)\n",
    "group_df.columns\n",
    "\n",
    "# get Location back as column to match later on\n",
    "group_df = group_df.reset_index()\n",
    "\n",
    "## only keep important columns and drop rows where no FactValueNumeric is present\n",
    "df_under5_merge = group_df[[\"Location\", \"Period\", \"FactValueNumeric\"]]"
   ]
  },
  {
   "cell_type": "code",
   "execution_count": 41,
   "id": "a62b3997-51e4-4fab-a597-ed5715729e22",
   "metadata": {},
   "outputs": [
    {
     "data": {
      "text/html": [
       "<div>\n",
       "<style scoped>\n",
       "    .dataframe tbody tr th:only-of-type {\n",
       "        vertical-align: middle;\n",
       "    }\n",
       "\n",
       "    .dataframe tbody tr th {\n",
       "        vertical-align: top;\n",
       "    }\n",
       "\n",
       "    .dataframe thead th {\n",
       "        text-align: right;\n",
       "    }\n",
       "</style>\n",
       "<table border=\"1\" class=\"dataframe\">\n",
       "  <thead>\n",
       "    <tr style=\"text-align: right;\">\n",
       "      <th></th>\n",
       "      <th>Location</th>\n",
       "      <th>Period</th>\n",
       "      <th>Infant mortality per 1000 live births</th>\n",
       "    </tr>\n",
       "  </thead>\n",
       "  <tbody>\n",
       "    <tr>\n",
       "      <th>0</th>\n",
       "      <td>Afghanistan</td>\n",
       "      <td>2015.0</td>\n",
       "      <td>61.180</td>\n",
       "    </tr>\n",
       "    <tr>\n",
       "      <th>1</th>\n",
       "      <td>Albania</td>\n",
       "      <td>2017.0</td>\n",
       "      <td>8.445</td>\n",
       "    </tr>\n",
       "    <tr>\n",
       "      <th>2</th>\n",
       "      <td>Algeria</td>\n",
       "      <td>2018.0</td>\n",
       "      <td>24.550</td>\n",
       "    </tr>\n",
       "    <tr>\n",
       "      <th>3</th>\n",
       "      <td>Angola</td>\n",
       "      <td>2015.0</td>\n",
       "      <td>81.745</td>\n",
       "    </tr>\n",
       "    <tr>\n",
       "      <th>4</th>\n",
       "      <td>Armenia</td>\n",
       "      <td>2015.0</td>\n",
       "      <td>13.405</td>\n",
       "    </tr>\n",
       "    <tr>\n",
       "      <th>...</th>\n",
       "      <td>...</td>\n",
       "      <td>...</td>\n",
       "      <td>...</td>\n",
       "    </tr>\n",
       "    <tr>\n",
       "      <th>85</th>\n",
       "      <td>United Republic of Tanzania</td>\n",
       "      <td>2015.0</td>\n",
       "      <td>83.115</td>\n",
       "    </tr>\n",
       "    <tr>\n",
       "      <th>86</th>\n",
       "      <td>Viet Nam</td>\n",
       "      <td>2013.0</td>\n",
       "      <td>8.403</td>\n",
       "    </tr>\n",
       "    <tr>\n",
       "      <th>87</th>\n",
       "      <td>Yemen</td>\n",
       "      <td>2013.0</td>\n",
       "      <td>66.005</td>\n",
       "    </tr>\n",
       "    <tr>\n",
       "      <th>88</th>\n",
       "      <td>Zambia</td>\n",
       "      <td>2018.0</td>\n",
       "      <td>69.965</td>\n",
       "    </tr>\n",
       "    <tr>\n",
       "      <th>89</th>\n",
       "      <td>Zimbabwe</td>\n",
       "      <td>2019.0</td>\n",
       "      <td>75.665</td>\n",
       "    </tr>\n",
       "  </tbody>\n",
       "</table>\n",
       "<p>90 rows × 3 columns</p>\n",
       "</div>"
      ],
      "text/plain": [
       "                       Location  Period  Infant mortality per 1000 live births\n",
       "0                   Afghanistan  2015.0                                 61.180\n",
       "1                       Albania  2017.0                                  8.445\n",
       "2                       Algeria  2018.0                                 24.550\n",
       "3                        Angola  2015.0                                 81.745\n",
       "4                       Armenia  2015.0                                 13.405\n",
       "..                          ...     ...                                    ...\n",
       "85  United Republic of Tanzania  2015.0                                 83.115\n",
       "86                     Viet Nam  2013.0                                  8.403\n",
       "87                        Yemen  2013.0                                 66.005\n",
       "88                       Zambia  2018.0                                 69.965\n",
       "89                     Zimbabwe  2019.0                                 75.665\n",
       "\n",
       "[90 rows x 3 columns]"
      ]
     },
     "execution_count": 41,
     "metadata": {},
     "output_type": "execute_result"
    }
   ],
   "source": [
    "df_under5_merge\n",
    "\n",
    "df_under5_merge = df_under5_merge.rename(columns = {\"FactValueNumeric\" : \"Infant mortality per 1000 live births\"})\n",
    "\n",
    "df_under5_merge"
   ]
  },
  {
   "cell_type": "code",
   "execution_count": 48,
   "id": "ae0eb12b-e43b-4ffc-a8ac-252d74f1e63a",
   "metadata": {},
   "outputs": [
    {
     "data": {
      "text/html": [
       "<div>\n",
       "<style scoped>\n",
       "    .dataframe tbody tr th:only-of-type {\n",
       "        vertical-align: middle;\n",
       "    }\n",
       "\n",
       "    .dataframe tbody tr th {\n",
       "        vertical-align: top;\n",
       "    }\n",
       "\n",
       "    .dataframe thead th {\n",
       "        text-align: right;\n",
       "    }\n",
       "</style>\n",
       "<table border=\"1\" class=\"dataframe\">\n",
       "  <thead>\n",
       "    <tr style=\"text-align: right;\">\n",
       "      <th></th>\n",
       "      <th>ParentLocation</th>\n",
       "      <th>ParentLocationCode</th>\n",
       "      <th>Location</th>\n",
       "      <th>Medical Doctors per 10k inhabitants</th>\n",
       "      <th>Period</th>\n",
       "      <th>Infant mortality per 1000 live births</th>\n",
       "    </tr>\n",
       "  </thead>\n",
       "  <tbody>\n",
       "    <tr>\n",
       "      <th>0</th>\n",
       "      <td>Africa</td>\n",
       "      <td>AFR</td>\n",
       "      <td>Chad</td>\n",
       "      <td>0.582</td>\n",
       "      <td>2019.0</td>\n",
       "      <td>118.100</td>\n",
       "    </tr>\n",
       "    <tr>\n",
       "      <th>1</th>\n",
       "      <td>Africa</td>\n",
       "      <td>AFR</td>\n",
       "      <td>Togo</td>\n",
       "      <td>0.585</td>\n",
       "      <td>2017.0</td>\n",
       "      <td>80.360</td>\n",
       "    </tr>\n",
       "    <tr>\n",
       "      <th>2</th>\n",
       "      <td>Western Pacific</td>\n",
       "      <td>WPR</td>\n",
       "      <td>Papua New Guinea</td>\n",
       "      <td>0.629</td>\n",
       "      <td>2016.0</td>\n",
       "      <td>63.520</td>\n",
       "    </tr>\n",
       "    <tr>\n",
       "      <th>3</th>\n",
       "      <td>Africa</td>\n",
       "      <td>AFR</td>\n",
       "      <td>Burundi</td>\n",
       "      <td>0.647</td>\n",
       "      <td>2016.0</td>\n",
       "      <td>88.820</td>\n",
       "    </tr>\n",
       "    <tr>\n",
       "      <th>4</th>\n",
       "      <td>Africa</td>\n",
       "      <td>AFR</td>\n",
       "      <td>Mozambique</td>\n",
       "      <td>0.814</td>\n",
       "      <td>2015.0</td>\n",
       "      <td>48.025</td>\n",
       "    </tr>\n",
       "  </tbody>\n",
       "</table>\n",
       "</div>"
      ],
      "text/plain": [
       "    ParentLocation ParentLocationCode          Location  \\\n",
       "0           Africa                AFR              Chad   \n",
       "1           Africa                AFR              Togo   \n",
       "2  Western Pacific                WPR  Papua New Guinea   \n",
       "3           Africa                AFR           Burundi   \n",
       "4           Africa                AFR        Mozambique   \n",
       "\n",
       "   Medical Doctors per 10k inhabitants  Period  \\\n",
       "0                                0.582  2019.0   \n",
       "1                                0.585  2017.0   \n",
       "2                                0.629  2016.0   \n",
       "3                                0.647  2016.0   \n",
       "4                                0.814  2015.0   \n",
       "\n",
       "   Infant mortality per 1000 live births  \n",
       "0                                118.100  \n",
       "1                                 80.360  \n",
       "2                                 63.520  \n",
       "3                                 88.820  \n",
       "4                                 48.025  "
      ]
     },
     "execution_count": 48,
     "metadata": {},
     "output_type": "execute_result"
    }
   ],
   "source": [
    "### Match the Medical doctors and the infant mortality data set\n",
    "# only keep rows where both data sets has rows\n",
    "WHO_data = pd.merge(df_md_merge, df_under5_merge, on='Location', how='inner')\n",
    "\n",
    "WHO_data.head()"
   ]
  },
  {
   "cell_type": "code",
   "execution_count": 51,
   "id": "ca45e617-aa74-496d-b6df-4f0572ab6822",
   "metadata": {},
   "outputs": [
    {
     "data": {
      "application/vnd.plotly.v1+json": {
       "config": {
        "plotlyServerURL": "https://plot.ly"
       },
       "data": [
        {
         "customdata": [
          [
           "Chad"
          ],
          [
           "Togo"
          ],
          [
           "Papua New Guinea"
          ],
          [
           "Burundi"
          ],
          [
           "Mozambique"
          ],
          [
           "Cameroon"
          ],
          [
           "Tonga"
          ],
          [
           "Peru"
          ],
          [
           "Guinea-Bissau"
          ],
          [
           "Kenya"
          ],
          [
           "Zambia"
          ],
          [
           "Brazil"
          ],
          [
           "Colombia"
          ],
          [
           "El Salvador"
          ],
          [
           "Lao People's Democratic Republic"
          ],
          [
           "Nigeria"
          ],
          [
           "Paraguay"
          ],
          [
           "Bangladesh"
          ],
          [
           "Indonesia"
          ],
          [
           "Philippines"
          ],
          [
           "South Africa"
          ],
          [
           "Nepal"
          ],
          [
           "Niger"
          ],
          [
           "Malawi"
          ],
          [
           "Sierra Leone"
          ],
          [
           "Gambia"
          ],
          [
           "Senegal"
          ],
          [
           "Ethiopia"
          ],
          [
           "Eswatini"
          ],
          [
           "Uganda"
          ],
          [
           "Ghana"
          ],
          [
           "Zimbabwe"
          ],
          [
           "Tuvalu"
          ],
          [
           "Guatemala"
          ],
          [
           "Guyana"
          ],
          [
           "Albania"
          ],
          [
           "Afghanistan"
          ],
          [
           "Türkiye"
          ],
          [
           "Honduras"
          ],
          [
           "Republic of Moldova"
          ],
          [
           "Samoa"
          ],
          [
           "Gabon"
          ],
          [
           "India"
          ],
          [
           "Timor-Leste"
          ],
          [
           "Iraq"
          ],
          [
           "Benin"
          ],
          [
           "Burkina Faso"
          ],
          [
           "Rwanda"
          ],
          [
           "Côte d’Ivoire"
          ],
          [
           "Pakistan"
          ],
          [
           "Dominican Republic"
          ],
          [
           "Cambodia"
          ],
          [
           "Maldives"
          ],
          [
           "Kyrgyzstan"
          ],
          [
           "Jordan"
          ],
          [
           "Azerbaijan"
          ],
          [
           "Sao Tome and Principe"
          ],
          [
           "Egypt"
          ],
          [
           "Myanmar"
          ],
          [
           "South Sudan"
          ],
          [
           "United Republic of Tanzania"
          ],
          [
           "Liberia"
          ],
          [
           "Central African Republic"
          ],
          [
           "Congo"
          ],
          [
           "Mali"
          ],
          [
           "Mauritania"
          ],
          [
           "Madagascar"
          ],
          [
           "Belize"
          ],
          [
           "Algeria"
          ],
          [
           "Angola"
          ],
          [
           "Guinea"
          ],
          [
           "Haiti"
          ],
          [
           "Comoros"
          ],
          [
           "Democratic Republic of the Congo"
          ],
          [
           "Mongolia"
          ],
          [
           "Lesotho"
          ],
          [
           "Namibia"
          ],
          [
           "Suriname"
          ],
          [
           "Bolivia (Plurinational State of)"
          ],
          [
           "Tunisia"
          ],
          [
           "Sudan"
          ],
          [
           "Armenia"
          ],
          [
           "Morocco"
          ],
          [
           "Viet Nam"
          ],
          [
           "The former Yugoslav Republic of Macedonia"
          ],
          [
           "Somalia"
          ],
          [
           "Tajikistan"
          ],
          [
           "Yemen"
          ],
          [
           "Turkmenistan"
          ],
          [
           "Kiribati"
          ]
         ],
         "hovertemplate": "Medical Doctors per 10k inhabitants=%{x}<br>Infant mortality per 1000 live births=%{y}<br>Location=%{customdata[0]}<extra></extra>",
         "legendgroup": "",
         "marker": {
          "color": "#636efa",
          "symbol": "circle"
         },
         "mode": "markers",
         "name": "",
         "orientation": "v",
         "showlegend": false,
         "type": "scatter",
         "x": [
          0.582,
          0.585,
          0.629,
          0.647,
          0.814,
          1.242,
          10.094,
          16.455,
          2.198,
          2.26,
          2.965,
          21.42,
          23.615,
          29.13,
          3.265,
          3.949,
          32.42,
          6.7,
          6.95,
          7.862,
          8.085,
          8.674,
          0.343,
          0.494,
          0.7,
          0.773,
          0.842,
          1.039,
          1.397,
          1.583,
          1.642,
          1.887,
          12.613,
          12.802,
          14.049,
          18.826,
          2.535,
          20.355,
          4.893,
          40.573,
          5.537,
          5.941,
          7.265,
          7.669,
          9.132,
          0.621,
          0.912,
          1.162,
          1.596,
          10.842,
          14.327,
          2.143,
          21.606,
          21.679,
          25.129,
          31.105,
          4.893,
          7.094,
          7.509,
          0.395,
          0.497,
          0.503,
          0.658,
          1,
          1.231,
          1.922,
          1.948,
          10.809,
          17.317,
          2.108,
          2.22,
          2.366,
          2.834,
          3.622,
          38.594,
          4.54,
          6.007,
          7.95,
          10.081,
          12.608,
          2.626,
          45.457,
          7.319,
          8.326,
          28.344,
          0.232,
          17.077,
          2.936,
          21.474,
          1.942
         ],
         "xaxis": "x",
         "y": [
          118.1,
          80.36,
          63.519999999999996,
          88.82,
          48.025,
          95.13499999999999,
          11.11,
          19.395,
          63.42,
          58.535,
          69.965,
          59.45,
          19.490000000000002,
          9.8855,
          22.938000000000002,
          141.4,
          9.2075,
          42.989999999999995,
          36.665,
          27.915,
          49.19,
          35.975,
          159.85,
          61.39,
          128.8,
          67.585,
          51.325,
          74.75999999999999,
          39.789,
          76.66,
          68.08,
          75.66499999999999,
          31.89,
          40.665000000000006,
          24.33,
          8.445,
          61.18,
          24.68,
          24.125,
          7.412,
          17.585,
          65.06,
          55.935,
          45.66,
          11.8995,
          107.685,
          159.5,
          58.655,
          47.525,
          94.015,
          32.38,
          44.730000000000004,
          21.9,
          10.514999999999999,
          14.290000000000001,
          65.78999999999999,
          16.11,
          35.3,
          81.07,
          48.373000000000005,
          83.115,
          102.245,
          111.61,
          26.426499999999997,
          115.25,
          25.069,
          60.980000000000004,
          8.060500000000001,
          24.55,
          81.745,
          113.15,
          91.1,
          50.114999999999995,
          75.495,
          20.25,
          89.955,
          57.21,
          10.2285,
          76.47,
          15.44,
          33.162499999999994,
          13.405000000000001,
          61.855000000000004,
          8.403,
          17,
          68.18499999999999,
          36.335,
          66.005,
          35.7,
          60.17
         ],
         "yaxis": "y"
        }
       ],
       "layout": {
        "autosize": true,
        "legend": {
         "tracegroupgap": 0
        },
        "margin": {
         "t": 60
        },
        "template": {
         "data": {
          "bar": [
           {
            "error_x": {
             "color": "#2a3f5f"
            },
            "error_y": {
             "color": "#2a3f5f"
            },
            "marker": {
             "line": {
              "color": "#E5ECF6",
              "width": 0.5
             },
             "pattern": {
              "fillmode": "overlay",
              "size": 10,
              "solidity": 0.2
             }
            },
            "type": "bar"
           }
          ],
          "barpolar": [
           {
            "marker": {
             "line": {
              "color": "#E5ECF6",
              "width": 0.5
             },
             "pattern": {
              "fillmode": "overlay",
              "size": 10,
              "solidity": 0.2
             }
            },
            "type": "barpolar"
           }
          ],
          "carpet": [
           {
            "aaxis": {
             "endlinecolor": "#2a3f5f",
             "gridcolor": "white",
             "linecolor": "white",
             "minorgridcolor": "white",
             "startlinecolor": "#2a3f5f"
            },
            "baxis": {
             "endlinecolor": "#2a3f5f",
             "gridcolor": "white",
             "linecolor": "white",
             "minorgridcolor": "white",
             "startlinecolor": "#2a3f5f"
            },
            "type": "carpet"
           }
          ],
          "choropleth": [
           {
            "colorbar": {
             "outlinewidth": 0,
             "ticks": ""
            },
            "type": "choropleth"
           }
          ],
          "contour": [
           {
            "colorbar": {
             "outlinewidth": 0,
             "ticks": ""
            },
            "colorscale": [
             [
              0,
              "#0d0887"
             ],
             [
              0.1111111111111111,
              "#46039f"
             ],
             [
              0.2222222222222222,
              "#7201a8"
             ],
             [
              0.3333333333333333,
              "#9c179e"
             ],
             [
              0.4444444444444444,
              "#bd3786"
             ],
             [
              0.5555555555555556,
              "#d8576b"
             ],
             [
              0.6666666666666666,
              "#ed7953"
             ],
             [
              0.7777777777777778,
              "#fb9f3a"
             ],
             [
              0.8888888888888888,
              "#fdca26"
             ],
             [
              1,
              "#f0f921"
             ]
            ],
            "type": "contour"
           }
          ],
          "contourcarpet": [
           {
            "colorbar": {
             "outlinewidth": 0,
             "ticks": ""
            },
            "type": "contourcarpet"
           }
          ],
          "heatmap": [
           {
            "colorbar": {
             "outlinewidth": 0,
             "ticks": ""
            },
            "colorscale": [
             [
              0,
              "#0d0887"
             ],
             [
              0.1111111111111111,
              "#46039f"
             ],
             [
              0.2222222222222222,
              "#7201a8"
             ],
             [
              0.3333333333333333,
              "#9c179e"
             ],
             [
              0.4444444444444444,
              "#bd3786"
             ],
             [
              0.5555555555555556,
              "#d8576b"
             ],
             [
              0.6666666666666666,
              "#ed7953"
             ],
             [
              0.7777777777777778,
              "#fb9f3a"
             ],
             [
              0.8888888888888888,
              "#fdca26"
             ],
             [
              1,
              "#f0f921"
             ]
            ],
            "type": "heatmap"
           }
          ],
          "heatmapgl": [
           {
            "colorbar": {
             "outlinewidth": 0,
             "ticks": ""
            },
            "colorscale": [
             [
              0,
              "#0d0887"
             ],
             [
              0.1111111111111111,
              "#46039f"
             ],
             [
              0.2222222222222222,
              "#7201a8"
             ],
             [
              0.3333333333333333,
              "#9c179e"
             ],
             [
              0.4444444444444444,
              "#bd3786"
             ],
             [
              0.5555555555555556,
              "#d8576b"
             ],
             [
              0.6666666666666666,
              "#ed7953"
             ],
             [
              0.7777777777777778,
              "#fb9f3a"
             ],
             [
              0.8888888888888888,
              "#fdca26"
             ],
             [
              1,
              "#f0f921"
             ]
            ],
            "type": "heatmapgl"
           }
          ],
          "histogram": [
           {
            "marker": {
             "pattern": {
              "fillmode": "overlay",
              "size": 10,
              "solidity": 0.2
             }
            },
            "type": "histogram"
           }
          ],
          "histogram2d": [
           {
            "colorbar": {
             "outlinewidth": 0,
             "ticks": ""
            },
            "colorscale": [
             [
              0,
              "#0d0887"
             ],
             [
              0.1111111111111111,
              "#46039f"
             ],
             [
              0.2222222222222222,
              "#7201a8"
             ],
             [
              0.3333333333333333,
              "#9c179e"
             ],
             [
              0.4444444444444444,
              "#bd3786"
             ],
             [
              0.5555555555555556,
              "#d8576b"
             ],
             [
              0.6666666666666666,
              "#ed7953"
             ],
             [
              0.7777777777777778,
              "#fb9f3a"
             ],
             [
              0.8888888888888888,
              "#fdca26"
             ],
             [
              1,
              "#f0f921"
             ]
            ],
            "type": "histogram2d"
           }
          ],
          "histogram2dcontour": [
           {
            "colorbar": {
             "outlinewidth": 0,
             "ticks": ""
            },
            "colorscale": [
             [
              0,
              "#0d0887"
             ],
             [
              0.1111111111111111,
              "#46039f"
             ],
             [
              0.2222222222222222,
              "#7201a8"
             ],
             [
              0.3333333333333333,
              "#9c179e"
             ],
             [
              0.4444444444444444,
              "#bd3786"
             ],
             [
              0.5555555555555556,
              "#d8576b"
             ],
             [
              0.6666666666666666,
              "#ed7953"
             ],
             [
              0.7777777777777778,
              "#fb9f3a"
             ],
             [
              0.8888888888888888,
              "#fdca26"
             ],
             [
              1,
              "#f0f921"
             ]
            ],
            "type": "histogram2dcontour"
           }
          ],
          "mesh3d": [
           {
            "colorbar": {
             "outlinewidth": 0,
             "ticks": ""
            },
            "type": "mesh3d"
           }
          ],
          "parcoords": [
           {
            "line": {
             "colorbar": {
              "outlinewidth": 0,
              "ticks": ""
             }
            },
            "type": "parcoords"
           }
          ],
          "pie": [
           {
            "automargin": true,
            "type": "pie"
           }
          ],
          "scatter": [
           {
            "fillpattern": {
             "fillmode": "overlay",
             "size": 10,
             "solidity": 0.2
            },
            "type": "scatter"
           }
          ],
          "scatter3d": [
           {
            "line": {
             "colorbar": {
              "outlinewidth": 0,
              "ticks": ""
             }
            },
            "marker": {
             "colorbar": {
              "outlinewidth": 0,
              "ticks": ""
             }
            },
            "type": "scatter3d"
           }
          ],
          "scattercarpet": [
           {
            "marker": {
             "colorbar": {
              "outlinewidth": 0,
              "ticks": ""
             }
            },
            "type": "scattercarpet"
           }
          ],
          "scattergeo": [
           {
            "marker": {
             "colorbar": {
              "outlinewidth": 0,
              "ticks": ""
             }
            },
            "type": "scattergeo"
           }
          ],
          "scattergl": [
           {
            "marker": {
             "colorbar": {
              "outlinewidth": 0,
              "ticks": ""
             }
            },
            "type": "scattergl"
           }
          ],
          "scattermapbox": [
           {
            "marker": {
             "colorbar": {
              "outlinewidth": 0,
              "ticks": ""
             }
            },
            "type": "scattermapbox"
           }
          ],
          "scatterpolar": [
           {
            "marker": {
             "colorbar": {
              "outlinewidth": 0,
              "ticks": ""
             }
            },
            "type": "scatterpolar"
           }
          ],
          "scatterpolargl": [
           {
            "marker": {
             "colorbar": {
              "outlinewidth": 0,
              "ticks": ""
             }
            },
            "type": "scatterpolargl"
           }
          ],
          "scatterternary": [
           {
            "marker": {
             "colorbar": {
              "outlinewidth": 0,
              "ticks": ""
             }
            },
            "type": "scatterternary"
           }
          ],
          "surface": [
           {
            "colorbar": {
             "outlinewidth": 0,
             "ticks": ""
            },
            "colorscale": [
             [
              0,
              "#0d0887"
             ],
             [
              0.1111111111111111,
              "#46039f"
             ],
             [
              0.2222222222222222,
              "#7201a8"
             ],
             [
              0.3333333333333333,
              "#9c179e"
             ],
             [
              0.4444444444444444,
              "#bd3786"
             ],
             [
              0.5555555555555556,
              "#d8576b"
             ],
             [
              0.6666666666666666,
              "#ed7953"
             ],
             [
              0.7777777777777778,
              "#fb9f3a"
             ],
             [
              0.8888888888888888,
              "#fdca26"
             ],
             [
              1,
              "#f0f921"
             ]
            ],
            "type": "surface"
           }
          ],
          "table": [
           {
            "cells": {
             "fill": {
              "color": "#EBF0F8"
             },
             "line": {
              "color": "white"
             }
            },
            "header": {
             "fill": {
              "color": "#C8D4E3"
             },
             "line": {
              "color": "white"
             }
            },
            "type": "table"
           }
          ]
         },
         "layout": {
          "annotationdefaults": {
           "arrowcolor": "#2a3f5f",
           "arrowhead": 0,
           "arrowwidth": 1
          },
          "autotypenumbers": "strict",
          "coloraxis": {
           "colorbar": {
            "outlinewidth": 0,
            "ticks": ""
           }
          },
          "colorscale": {
           "diverging": [
            [
             0,
             "#8e0152"
            ],
            [
             0.1,
             "#c51b7d"
            ],
            [
             0.2,
             "#de77ae"
            ],
            [
             0.3,
             "#f1b6da"
            ],
            [
             0.4,
             "#fde0ef"
            ],
            [
             0.5,
             "#f7f7f7"
            ],
            [
             0.6,
             "#e6f5d0"
            ],
            [
             0.7,
             "#b8e186"
            ],
            [
             0.8,
             "#7fbc41"
            ],
            [
             0.9,
             "#4d9221"
            ],
            [
             1,
             "#276419"
            ]
           ],
           "sequential": [
            [
             0,
             "#0d0887"
            ],
            [
             0.1111111111111111,
             "#46039f"
            ],
            [
             0.2222222222222222,
             "#7201a8"
            ],
            [
             0.3333333333333333,
             "#9c179e"
            ],
            [
             0.4444444444444444,
             "#bd3786"
            ],
            [
             0.5555555555555556,
             "#d8576b"
            ],
            [
             0.6666666666666666,
             "#ed7953"
            ],
            [
             0.7777777777777778,
             "#fb9f3a"
            ],
            [
             0.8888888888888888,
             "#fdca26"
            ],
            [
             1,
             "#f0f921"
            ]
           ],
           "sequentialminus": [
            [
             0,
             "#0d0887"
            ],
            [
             0.1111111111111111,
             "#46039f"
            ],
            [
             0.2222222222222222,
             "#7201a8"
            ],
            [
             0.3333333333333333,
             "#9c179e"
            ],
            [
             0.4444444444444444,
             "#bd3786"
            ],
            [
             0.5555555555555556,
             "#d8576b"
            ],
            [
             0.6666666666666666,
             "#ed7953"
            ],
            [
             0.7777777777777778,
             "#fb9f3a"
            ],
            [
             0.8888888888888888,
             "#fdca26"
            ],
            [
             1,
             "#f0f921"
            ]
           ]
          },
          "colorway": [
           "#636efa",
           "#EF553B",
           "#00cc96",
           "#ab63fa",
           "#FFA15A",
           "#19d3f3",
           "#FF6692",
           "#B6E880",
           "#FF97FF",
           "#FECB52"
          ],
          "font": {
           "color": "#2a3f5f"
          },
          "geo": {
           "bgcolor": "white",
           "lakecolor": "white",
           "landcolor": "#E5ECF6",
           "showlakes": true,
           "showland": true,
           "subunitcolor": "white"
          },
          "hoverlabel": {
           "align": "left"
          },
          "hovermode": "closest",
          "mapbox": {
           "style": "light"
          },
          "paper_bgcolor": "white",
          "plot_bgcolor": "#E5ECF6",
          "polar": {
           "angularaxis": {
            "gridcolor": "white",
            "linecolor": "white",
            "ticks": ""
           },
           "bgcolor": "#E5ECF6",
           "radialaxis": {
            "gridcolor": "white",
            "linecolor": "white",
            "ticks": ""
           }
          },
          "scene": {
           "xaxis": {
            "backgroundcolor": "#E5ECF6",
            "gridcolor": "white",
            "gridwidth": 2,
            "linecolor": "white",
            "showbackground": true,
            "ticks": "",
            "zerolinecolor": "white"
           },
           "yaxis": {
            "backgroundcolor": "#E5ECF6",
            "gridcolor": "white",
            "gridwidth": 2,
            "linecolor": "white",
            "showbackground": true,
            "ticks": "",
            "zerolinecolor": "white"
           },
           "zaxis": {
            "backgroundcolor": "#E5ECF6",
            "gridcolor": "white",
            "gridwidth": 2,
            "linecolor": "white",
            "showbackground": true,
            "ticks": "",
            "zerolinecolor": "white"
           }
          },
          "shapedefaults": {
           "line": {
            "color": "#2a3f5f"
           }
          },
          "ternary": {
           "aaxis": {
            "gridcolor": "white",
            "linecolor": "white",
            "ticks": ""
           },
           "baxis": {
            "gridcolor": "white",
            "linecolor": "white",
            "ticks": ""
           },
           "bgcolor": "#E5ECF6",
           "caxis": {
            "gridcolor": "white",
            "linecolor": "white",
            "ticks": ""
           }
          },
          "title": {
           "x": 0.05
          },
          "xaxis": {
           "automargin": true,
           "gridcolor": "white",
           "linecolor": "white",
           "ticks": "",
           "title": {
            "standoff": 15
           },
           "zerolinecolor": "white",
           "zerolinewidth": 2
          },
          "yaxis": {
           "automargin": true,
           "gridcolor": "white",
           "linecolor": "white",
           "ticks": "",
           "title": {
            "standoff": 15
           },
           "zerolinecolor": "white",
           "zerolinewidth": 2
          }
         }
        },
        "xaxis": {
         "anchor": "y",
         "autorange": true,
         "domain": [
          0,
          1
         ],
         "range": [
          -2.4391574892649666,
          48.128157489264964
         ],
         "title": {
          "text": "Medical Doctors per 10k inhabitants"
         },
         "type": "linear"
        },
        "yaxis": {
         "anchor": "x",
         "autorange": true,
         "domain": [
          0,
          1
         ],
         "range": [
          -4.390942257217847,
          171.65294225721783
         ],
         "title": {
          "text": "Infant mortality per 1000 live births"
         },
         "type": "linear"
        }
       }
      },
      "image/png": "[encoded data removed]",
      "text/html": [
       "<div>                            <div id=\"b22cb5d8-1830-4122-aa2a-636c53e1fd32\" class=\"plotly-graph-div\" style=\"height:525px; width:100%;\"></div>            <script type=\"text/javascript\">                require([\"plotly\"], function(Plotly) {                    window.PLOTLYENV=window.PLOTLYENV || {};                                    if (document.getElementById(\"b22cb5d8-1830-4122-aa2a-636c53e1fd32\")) {                    Plotly.newPlot(                        \"b22cb5d8-1830-4122-aa2a-636c53e1fd32\",                        [{\"customdata\":[[\"Chad\"],[\"Togo\"],[\"Papua New Guinea\"],[\"Burundi\"],[\"Mozambique\"],[\"Cameroon\"],[\"Tonga\"],[\"Peru\"],[\"Guinea-Bissau\"],[\"Kenya\"],[\"Zambia\"],[\"Brazil\"],[\"Colombia\"],[\"El Salvador\"],[\"Lao People's Democratic Republic\"],[\"Nigeria\"],[\"Paraguay\"],[\"Bangladesh\"],[\"Indonesia\"],[\"Philippines\"],[\"South Africa\"],[\"Nepal\"],[\"Niger\"],[\"Malawi\"],[\"Sierra Leone\"],[\"Gambia\"],[\"Senegal\"],[\"Ethiopia\"],[\"Eswatini\"],[\"Uganda\"],[\"Ghana\"],[\"Zimbabwe\"],[\"Tuvalu\"],[\"Guatemala\"],[\"Guyana\"],[\"Albania\"],[\"Afghanistan\"],[\"T\\u00fcrkiye\"],[\"Honduras\"],[\"Republic of Moldova\"],[\"Samoa\"],[\"Gabon\"],[\"India\"],[\"Timor-Leste\"],[\"Iraq\"],[\"Benin\"],[\"Burkina Faso\"],[\"Rwanda\"],[\"C\\u00f4te d\\u2019Ivoire\"],[\"Pakistan\"],[\"Dominican Republic\"],[\"Cambodia\"],[\"Maldives\"],[\"Kyrgyzstan\"],[\"Jordan\"],[\"Azerbaijan\"],[\"Sao Tome and Principe\"],[\"Egypt\"],[\"Myanmar\"],[\"South Sudan\"],[\"United Republic of Tanzania\"],[\"Liberia\"],[\"Central African Republic\"],[\"Congo\"],[\"Mali\"],[\"Mauritania\"],[\"Madagascar\"],[\"Belize\"],[\"Algeria\"],[\"Angola\"],[\"Guinea\"],[\"Haiti\"],[\"Comoros\"],[\"Democratic Republic of the Congo\"],[\"Mongolia\"],[\"Lesotho\"],[\"Namibia\"],[\"Suriname\"],[\"Bolivia (Plurinational State of)\"],[\"Tunisia\"],[\"Sudan\"],[\"Armenia\"],[\"Morocco\"],[\"Viet Nam\"],[\"The former Yugoslav Republic of Macedonia\"],[\"Somalia\"],[\"Tajikistan\"],[\"Yemen\"],[\"Turkmenistan\"],[\"Kiribati\"]],\"hovertemplate\":\"Medical Doctors per 10k inhabitants=%{x}\\u003cbr\\u003eInfant mortality per 1000 live births=%{y}\\u003cbr\\u003eLocation=%{customdata[0]}\\u003cextra\\u003e\\u003c\\u002fextra\\u003e\",\"legendgroup\":\"\",\"marker\":{\"color\":\"#636efa\",\"symbol\":\"circle\"},\"mode\":\"markers\",\"name\":\"\",\"orientation\":\"v\",\"showlegend\":false,\"x\":[0.582,0.585,0.629,0.647,0.814,1.242,10.094,16.455,2.198,2.26,2.965,21.42,23.615,29.13,3.265,3.949,32.42,6.7,6.95,7.862,8.085,8.674,0.343,0.494,0.7,0.773,0.842,1.039,1.397,1.583,1.642,1.887,12.613,12.802,14.049,18.826,2.535,20.355,4.893,40.573,5.537,5.941,7.265,7.669,9.132,0.621,0.912,1.162,1.596,10.842,14.327,2.143,21.606,21.679,25.129,31.105,4.893,7.094,7.509,0.395,0.497,0.503,0.658,1.0,1.231,1.922,1.948,10.809,17.317,2.108,2.22,2.366,2.834,3.622,38.594,4.54,6.007,7.95,10.081,12.608,2.626,45.457,7.319,8.326,28.344,0.232,17.077,2.936,21.474,1.942],\"xaxis\":\"x\",\"y\":[118.1,80.36,63.519999999999996,88.82,48.025,95.13499999999999,11.11,19.395,63.42,58.535,69.965,59.45,19.490000000000002,9.8855,22.938000000000002,141.4,9.2075,42.989999999999995,36.665,27.915,49.19,35.975,159.85,61.39,128.8,67.585,51.325,74.75999999999999,39.789,76.66,68.08,75.66499999999999,31.89,40.665000000000006,24.33,8.445,61.18,24.68,24.125,7.412,17.585,65.06,55.935,45.66,11.8995,107.685,159.5,58.655,47.525,94.015,32.38,44.730000000000004,21.9,10.514999999999999,14.290000000000001,65.78999999999999,16.11,35.3,81.07,48.373000000000005,83.115,102.245,111.61,26.426499999999997,115.25,25.069,60.980000000000004,8.060500000000001,24.55,81.745,113.15,91.1,50.114999999999995,75.495,20.25,89.955,57.21,10.2285,76.47,15.44,33.162499999999994,13.405000000000001,61.855000000000004,8.403,17.0,68.18499999999999,36.335,66.005,35.7,60.17],\"yaxis\":\"y\",\"type\":\"scatter\"}],                        {\"template\":{\"data\":{\"histogram2dcontour\":[{\"type\":\"histogram2dcontour\",\"colorbar\":{\"outlinewidth\":0,\"ticks\":\"\"},\"colorscale\":[[0.0,\"#0d0887\"],[0.1111111111111111,\"#46039f\"],[0.2222222222222222,\"#7201a8\"],[0.3333333333333333,\"#9c179e\"],[0.4444444444444444,\"#bd3786\"],[0.5555555555555556,\"#d8576b\"],[0.6666666666666666,\"#ed7953\"],[0.7777777777777778,\"#fb9f3a\"],[0.8888888888888888,\"#fdca26\"],[1.0,\"#f0f921\"]]}],\"choropleth\":[{\"type\":\"choropleth\",\"colorbar\":{\"outlinewidth\":0,\"ticks\":\"\"}}],\"histogram2d\":[{\"type\":\"histogram2d\",\"colorbar\":{\"outlinewidth\":0,\"ticks\":\"\"},\"colorscale\":[[0.0,\"#0d0887\"],[0.1111111111111111,\"#46039f\"],[0.2222222222222222,\"#7201a8\"],[0.3333333333333333,\"#9c179e\"],[0.4444444444444444,\"#bd3786\"],[0.5555555555555556,\"#d8576b\"],[0.6666666666666666,\"#ed7953\"],[0.7777777777777778,\"#fb9f3a\"],[0.8888888888888888,\"#fdca26\"],[1.0,\"#f0f921\"]]}],\"heatmap\":[{\"type\":\"heatmap\",\"colorbar\":{\"outlinewidth\":0,\"ticks\":\"\"},\"colorscale\":[[0.0,\"#0d0887\"],[0.1111111111111111,\"#46039f\"],[0.2222222222222222,\"#7201a8\"],[0.3333333333333333,\"#9c179e\"],[0.4444444444444444,\"#bd3786\"],[0.5555555555555556,\"#d8576b\"],[0.6666666666666666,\"#ed7953\"],[0.7777777777777778,\"#fb9f3a\"],[0.8888888888888888,\"#fdca26\"],[1.0,\"#f0f921\"]]}],\"heatmapgl\":[{\"type\":\"heatmapgl\",\"colorbar\":{\"outlinewidth\":0,\"ticks\":\"\"},\"colorscale\":[[0.0,\"#0d0887\"],[0.1111111111111111,\"#46039f\"],[0.2222222222222222,\"#7201a8\"],[0.3333333333333333,\"#9c179e\"],[0.4444444444444444,\"#bd3786\"],[0.5555555555555556,\"#d8576b\"],[0.6666666666666666,\"#ed7953\"],[0.7777777777777778,\"#fb9f3a\"],[0.8888888888888888,\"#fdca26\"],[1.0,\"#f0f921\"]]}],\"contourcarpet\":[{\"type\":\"contourcarpet\",\"colorbar\":{\"outlinewidth\":0,\"ticks\":\"\"}}],\"contour\":[{\"type\":\"contour\",\"colorbar\":{\"outlinewidth\":0,\"ticks\":\"\"},\"colorscale\":[[0.0,\"#0d0887\"],[0.1111111111111111,\"#46039f\"],[0.2222222222222222,\"#7201a8\"],[0.3333333333333333,\"#9c179e\"],[0.4444444444444444,\"#bd3786\"],[0.5555555555555556,\"#d8576b\"],[0.6666666666666666,\"#ed7953\"],[0.7777777777777778,\"#fb9f3a\"],[0.8888888888888888,\"#fdca26\"],[1.0,\"#f0f921\"]]}],\"surface\":[{\"type\":\"surface\",\"colorbar\":{\"outlinewidth\":0,\"ticks\":\"\"},\"colorscale\":[[0.0,\"#0d0887\"],[0.1111111111111111,\"#46039f\"],[0.2222222222222222,\"#7201a8\"],[0.3333333333333333,\"#9c179e\"],[0.4444444444444444,\"#bd3786\"],[0.5555555555555556,\"#d8576b\"],[0.6666666666666666,\"#ed7953\"],[0.7777777777777778,\"#fb9f3a\"],[0.8888888888888888,\"#fdca26\"],[1.0,\"#f0f921\"]]}],\"mesh3d\":[{\"type\":\"mesh3d\",\"colorbar\":{\"outlinewidth\":0,\"ticks\":\"\"}}],\"scatter\":[{\"fillpattern\":{\"fillmode\":\"overlay\",\"size\":10,\"solidity\":0.2},\"type\":\"scatter\"}],\"parcoords\":[{\"type\":\"parcoords\",\"line\":{\"colorbar\":{\"outlinewidth\":0,\"ticks\":\"\"}}}],\"scatterpolargl\":[{\"type\":\"scatterpolargl\",\"marker\":{\"colorbar\":{\"outlinewidth\":0,\"ticks\":\"\"}}}],\"bar\":[{\"error_x\":{\"color\":\"#2a3f5f\"},\"error_y\":{\"color\":\"#2a3f5f\"},\"marker\":{\"line\":{\"color\":\"#E5ECF6\",\"width\":0.5},\"pattern\":{\"fillmode\":\"overlay\",\"size\":10,\"solidity\":0.2}},\"type\":\"bar\"}],\"scattergeo\":[{\"type\":\"scattergeo\",\"marker\":{\"colorbar\":{\"outlinewidth\":0,\"ticks\":\"\"}}}],\"scatterpolar\":[{\"type\":\"scatterpolar\",\"marker\":{\"colorbar\":{\"outlinewidth\":0,\"ticks\":\"\"}}}],\"histogram\":[{\"marker\":{\"pattern\":{\"fillmode\":\"overlay\",\"size\":10,\"solidity\":0.2}},\"type\":\"histogram\"}],\"scattergl\":[{\"type\":\"scattergl\",\"marker\":{\"colorbar\":{\"outlinewidth\":0,\"ticks\":\"\"}}}],\"scatter3d\":[{\"type\":\"scatter3d\",\"line\":{\"colorbar\":{\"outlinewidth\":0,\"ticks\":\"\"}},\"marker\":{\"colorbar\":{\"outlinewidth\":0,\"ticks\":\"\"}}}],\"scattermapbox\":[{\"type\":\"scattermapbox\",\"marker\":{\"colorbar\":{\"outlinewidth\":0,\"ticks\":\"\"}}}],\"scatterternary\":[{\"type\":\"scatterternary\",\"marker\":{\"colorbar\":{\"outlinewidth\":0,\"ticks\":\"\"}}}],\"scattercarpet\":[{\"type\":\"scattercarpet\",\"marker\":{\"colorbar\":{\"outlinewidth\":0,\"ticks\":\"\"}}}],\"carpet\":[{\"aaxis\":{\"endlinecolor\":\"#2a3f5f\",\"gridcolor\":\"white\",\"linecolor\":\"white\",\"minorgridcolor\":\"white\",\"startlinecolor\":\"#2a3f5f\"},\"baxis\":{\"endlinecolor\":\"#2a3f5f\",\"gridcolor\":\"white\",\"linecolor\":\"white\",\"minorgridcolor\":\"white\",\"startlinecolor\":\"#2a3f5f\"},\"type\":\"carpet\"}],\"table\":[{\"cells\":{\"fill\":{\"color\":\"#EBF0F8\"},\"line\":{\"color\":\"white\"}},\"header\":{\"fill\":{\"color\":\"#C8D4E3\"},\"line\":{\"color\":\"white\"}},\"type\":\"table\"}],\"barpolar\":[{\"marker\":{\"line\":{\"color\":\"#E5ECF6\",\"width\":0.5},\"pattern\":{\"fillmode\":\"overlay\",\"size\":10,\"solidity\":0.2}},\"type\":\"barpolar\"}],\"pie\":[{\"automargin\":true,\"type\":\"pie\"}]},\"layout\":{\"autotypenumbers\":\"strict\",\"colorway\":[\"#636efa\",\"#EF553B\",\"#00cc96\",\"#ab63fa\",\"#FFA15A\",\"#19d3f3\",\"#FF6692\",\"#B6E880\",\"#FF97FF\",\"#FECB52\"],\"font\":{\"color\":\"#2a3f5f\"},\"hovermode\":\"closest\",\"hoverlabel\":{\"align\":\"left\"},\"paper_bgcolor\":\"white\",\"plot_bgcolor\":\"#E5ECF6\",\"polar\":{\"bgcolor\":\"#E5ECF6\",\"angularaxis\":{\"gridcolor\":\"white\",\"linecolor\":\"white\",\"ticks\":\"\"},\"radialaxis\":{\"gridcolor\":\"white\",\"linecolor\":\"white\",\"ticks\":\"\"}},\"ternary\":{\"bgcolor\":\"#E5ECF6\",\"aaxis\":{\"gridcolor\":\"white\",\"linecolor\":\"white\",\"ticks\":\"\"},\"baxis\":{\"gridcolor\":\"white\",\"linecolor\":\"white\",\"ticks\":\"\"},\"caxis\":{\"gridcolor\":\"white\",\"linecolor\":\"white\",\"ticks\":\"\"}},\"coloraxis\":{\"colorbar\":{\"outlinewidth\":0,\"ticks\":\"\"}},\"colorscale\":{\"sequential\":[[0.0,\"#0d0887\"],[0.1111111111111111,\"#46039f\"],[0.2222222222222222,\"#7201a8\"],[0.3333333333333333,\"#9c179e\"],[0.4444444444444444,\"#bd3786\"],[0.5555555555555556,\"#d8576b\"],[0.6666666666666666,\"#ed7953\"],[0.7777777777777778,\"#fb9f3a\"],[0.8888888888888888,\"#fdca26\"],[1.0,\"#f0f921\"]],\"sequentialminus\":[[0.0,\"#0d0887\"],[0.1111111111111111,\"#46039f\"],[0.2222222222222222,\"#7201a8\"],[0.3333333333333333,\"#9c179e\"],[0.4444444444444444,\"#bd3786\"],[0.5555555555555556,\"#d8576b\"],[0.6666666666666666,\"#ed7953\"],[0.7777777777777778,\"#fb9f3a\"],[0.8888888888888888,\"#fdca26\"],[1.0,\"#f0f921\"]],\"diverging\":[[0,\"#8e0152\"],[0.1,\"#c51b7d\"],[0.2,\"#de77ae\"],[0.3,\"#f1b6da\"],[0.4,\"#fde0ef\"],[0.5,\"#f7f7f7\"],[0.6,\"#e6f5d0\"],[0.7,\"#b8e186\"],[0.8,\"#7fbc41\"],[0.9,\"#4d9221\"],[1,\"#276419\"]]},\"xaxis\":{\"gridcolor\":\"white\",\"linecolor\":\"white\",\"ticks\":\"\",\"title\":{\"standoff\":15},\"zerolinecolor\":\"white\",\"automargin\":true,\"zerolinewidth\":2},\"yaxis\":{\"gridcolor\":\"white\",\"linecolor\":\"white\",\"ticks\":\"\",\"title\":{\"standoff\":15},\"zerolinecolor\":\"white\",\"automargin\":true,\"zerolinewidth\":2},\"scene\":{\"xaxis\":{\"backgroundcolor\":\"#E5ECF6\",\"gridcolor\":\"white\",\"linecolor\":\"white\",\"showbackground\":true,\"ticks\":\"\",\"zerolinecolor\":\"white\",\"gridwidth\":2},\"yaxis\":{\"backgroundcolor\":\"#E5ECF6\",\"gridcolor\":\"white\",\"linecolor\":\"white\",\"showbackground\":true,\"ticks\":\"\",\"zerolinecolor\":\"white\",\"gridwidth\":2},\"zaxis\":{\"backgroundcolor\":\"#E5ECF6\",\"gridcolor\":\"white\",\"linecolor\":\"white\",\"showbackground\":true,\"ticks\":\"\",\"zerolinecolor\":\"white\",\"gridwidth\":2}},\"shapedefaults\":{\"line\":{\"color\":\"#2a3f5f\"}},\"annotationdefaults\":{\"arrowcolor\":\"#2a3f5f\",\"arrowhead\":0,\"arrowwidth\":1},\"geo\":{\"bgcolor\":\"white\",\"landcolor\":\"#E5ECF6\",\"subunitcolor\":\"white\",\"showland\":true,\"showlakes\":true,\"lakecolor\":\"white\"},\"title\":{\"x\":0.05},\"mapbox\":{\"style\":\"light\"}}},\"xaxis\":{\"anchor\":\"y\",\"domain\":[0.0,1.0],\"title\":{\"text\":\"Medical Doctors per 10k inhabitants\"}},\"yaxis\":{\"anchor\":\"x\",\"domain\":[0.0,1.0],\"title\":{\"text\":\"Infant mortality per 1000 live births\"}},\"legend\":{\"tracegroupgap\":0},\"margin\":{\"t\":60}},                        {\"responsive\": true}                    ).then(function(){\n",
       "                            \n",
       "var gd = document.getElementById('b22cb5d8-1830-4122-aa2a-636c53e1fd32');\n",
       "var x = new MutationObserver(function (mutations, observer) {{\n",
       "        var display = window.getComputedStyle(gd).display;\n",
       "        if (!display || display === 'none') {{\n",
       "            console.log([gd, 'removed!']);\n",
       "            Plotly.purge(gd);\n",
       "            observer.disconnect();\n",
       "        }}\n",
       "}});\n",
       "\n",
       "// Listen for the removal of the full notebook cells\n",
       "var notebookContainer = gd.closest('#notebook-container');\n",
       "if (notebookContainer) {{\n",
       "    x.observe(notebookContainer, {childList: true});\n",
       "}}\n",
       "\n",
       "// Listen for the clearing of the current output cell\n",
       "var outputEl = gd.closest('.output');\n",
       "if (outputEl) {{\n",
       "    x.observe(outputEl, {childList: true});\n",
       "}}\n",
       "\n",
       "                        })                };                });            </script>        </div>"
      ]
     },
     "metadata": {},
     "output_type": "display_data"
    }
   ],
   "source": [
    "## scatter plot MD and infant mortality\n",
    "\n",
    "fig = px.scatter(WHO_data, x=\"Medical Doctors per 10k inhabitants\", y=\"Infant mortality per 1000 live births\",\n",
    "                hover_data=['Location'])\n",
    "fig.show()\n"
   ]
  },
  {
   "cell_type": "code",
   "execution_count": 53,
   "id": "0cf9848c-fbca-4c62-9e9c-2528491024a3",
   "metadata": {},
   "outputs": [
    {
     "data": {
      "text/html": [
       "<div>\n",
       "<style scoped>\n",
       "    .dataframe tbody tr th:only-of-type {\n",
       "        vertical-align: middle;\n",
       "    }\n",
       "\n",
       "    .dataframe tbody tr th {\n",
       "        vertical-align: top;\n",
       "    }\n",
       "\n",
       "    .dataframe thead th {\n",
       "        text-align: right;\n",
       "    }\n",
       "</style>\n",
       "<table border=\"1\" class=\"dataframe\">\n",
       "  <thead>\n",
       "    <tr style=\"text-align: right;\">\n",
       "      <th></th>\n",
       "      <th>ParentLocation</th>\n",
       "      <th>ParentLocationCode</th>\n",
       "      <th>Location</th>\n",
       "      <th>Medical Doctors per 10k inhabitants</th>\n",
       "      <th>Period</th>\n",
       "      <th>Infant mortality per 1000 live births</th>\n",
       "    </tr>\n",
       "  </thead>\n",
       "  <tbody>\n",
       "    <tr>\n",
       "      <th>0</th>\n",
       "      <td>Africa</td>\n",
       "      <td>AFR</td>\n",
       "      <td>Chad</td>\n",
       "      <td>0.582</td>\n",
       "      <td>2019.0</td>\n",
       "      <td>118.100</td>\n",
       "    </tr>\n",
       "    <tr>\n",
       "      <th>3</th>\n",
       "      <td>Africa</td>\n",
       "      <td>AFR</td>\n",
       "      <td>Burundi</td>\n",
       "      <td>0.647</td>\n",
       "      <td>2016.0</td>\n",
       "      <td>88.820</td>\n",
       "    </tr>\n",
       "    <tr>\n",
       "      <th>5</th>\n",
       "      <td>Africa</td>\n",
       "      <td>AFR</td>\n",
       "      <td>Cameroon</td>\n",
       "      <td>1.242</td>\n",
       "      <td>2018.0</td>\n",
       "      <td>95.135</td>\n",
       "    </tr>\n",
       "    <tr>\n",
       "      <th>41</th>\n",
       "      <td>Africa</td>\n",
       "      <td>AFR</td>\n",
       "      <td>Gabon</td>\n",
       "      <td>5.941</td>\n",
       "      <td>2012.0</td>\n",
       "      <td>65.060</td>\n",
       "    </tr>\n",
       "    <tr>\n",
       "      <th>47</th>\n",
       "      <td>Africa</td>\n",
       "      <td>AFR</td>\n",
       "      <td>Rwanda</td>\n",
       "      <td>1.162</td>\n",
       "      <td>2019.0</td>\n",
       "      <td>58.655</td>\n",
       "    </tr>\n",
       "    <tr>\n",
       "      <th>62</th>\n",
       "      <td>Africa</td>\n",
       "      <td>AFR</td>\n",
       "      <td>Central African Republic</td>\n",
       "      <td>0.658</td>\n",
       "      <td>2018.0</td>\n",
       "      <td>111.610</td>\n",
       "    </tr>\n",
       "    <tr>\n",
       "      <th>69</th>\n",
       "      <td>Africa</td>\n",
       "      <td>AFR</td>\n",
       "      <td>Angola</td>\n",
       "      <td>2.108</td>\n",
       "      <td>2015.0</td>\n",
       "      <td>81.745</td>\n",
       "    </tr>\n",
       "    <tr>\n",
       "      <th>73</th>\n",
       "      <td>Africa</td>\n",
       "      <td>AFR</td>\n",
       "      <td>Democratic Republic of the Congo</td>\n",
       "      <td>3.622</td>\n",
       "      <td>2017.0</td>\n",
       "      <td>75.495</td>\n",
       "    </tr>\n",
       "  </tbody>\n",
       "</table>\n",
       "</div>"
      ],
      "text/plain": [
       "   ParentLocation ParentLocationCode                          Location  \\\n",
       "0          Africa                AFR                              Chad   \n",
       "3          Africa                AFR                           Burundi   \n",
       "5          Africa                AFR                          Cameroon   \n",
       "41         Africa                AFR                             Gabon   \n",
       "47         Africa                AFR                            Rwanda   \n",
       "62         Africa                AFR          Central African Republic   \n",
       "69         Africa                AFR                            Angola   \n",
       "73         Africa                AFR  Democratic Republic of the Congo   \n",
       "\n",
       "    Medical Doctors per 10k inhabitants  Period  \\\n",
       "0                                 0.582  2019.0   \n",
       "3                                 0.647  2016.0   \n",
       "5                                 1.242  2018.0   \n",
       "41                                5.941  2012.0   \n",
       "47                                1.162  2019.0   \n",
       "62                                0.658  2018.0   \n",
       "69                                2.108  2015.0   \n",
       "73                                3.622  2017.0   \n",
       "\n",
       "    Infant mortality per 1000 live births  \n",
       "0                                 118.100  \n",
       "3                                  88.820  \n",
       "5                                  95.135  \n",
       "41                                 65.060  \n",
       "47                                 58.655  \n",
       "62                                111.610  \n",
       "69                                 81.745  \n",
       "73                                 75.495  "
      ]
     },
     "execution_count": 53,
     "metadata": {},
     "output_type": "execute_result"
    }
   ],
   "source": [
    "### create subset of central africa\n",
    "WHO_central = WHO_data[WHO_data['Location'].isin(countries)]\n",
    "\n",
    "WHO_central.head(11)"
   ]
  }
 ],
 "metadata": {
  "kernelspec": {
   "display_name": "VIZ",
   "language": "python",
   "name": "viz"
  },
  "language_info": {
   "codemirror_mode": {
    "name": "ipython",
    "version": 3
   },
   "file_extension": ".py",
   "mimetype": "text/x-python",
   "name": "python",
   "nbconvert_exporter": "python",
   "pygments_lexer": "ipython3",
   "version": "3.10.13"
  }
 },
 "nbformat": 4,
 "nbformat_minor": 5
}
