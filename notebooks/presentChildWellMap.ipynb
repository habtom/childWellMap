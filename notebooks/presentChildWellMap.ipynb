{
 "cells": [
  {
   "cell_type": "markdown",
   "id": "733cb901-d182-461e-bad6-4a716e7deba8",
   "metadata": {
    "editable": true,
    "slideshow": {
     "slide_type": "slide"
    },
    "tags": []
   },
   "source": [
    "# <span style=\"color:blue\"> ChildWellMap Challenge: Mapping Child Health and Hospital Density</span>\n",
    "\n",
    "*01.03.2024*\n",
    "\n",
    "**Team Members:**\n",
    "- Laura Giulietti\n",
    "- Lorenz Schmid\n",
    "- Habtom Kahsay Gidey\n",
    "  \n",
    "---"
   ]
  },
  {
   "cell_type": "markdown",
   "id": "27678fe2-3c36-4e1a-a087-fb12badd41a1",
   "metadata": {
    "editable": true,
    "slideshow": {
     "slide_type": "slide"
    },
    "tags": []
   },
   "source": [
    "## <span style=\"color:blue\">Objectives</span>\n",
    "\n",
    "1. What is the state of Child mortality in the world?\n",
    "2. What would be the factors associated with it, and can we find good predictors and explanatory factors?\n",
    "3. How does our calculated indicator work compared to a similar indicator?\n",
    "  \n",
    "---"
   ]
  },
  {
   "cell_type": "code",
   "execution_count": 1,
   "id": "7c7ef29e-e77e-417d-8171-a8bf6e1c98ba",
   "metadata": {
    "editable": true,
    "slideshow": {
     "slide_type": "slide"
    },
    "tags": []
   },
   "outputs": [],
   "source": [
    "#World map with density of mortality\n",
    "#%run World_picture.ipynb"
   ]
  },
  {
   "cell_type": "markdown",
   "id": "94ffbd0c-e2fa-4e64-a38e-7c8b0879a8b7",
   "metadata": {
    "editable": true,
    "slideshow": {
     "slide_type": "slide"
    },
    "tags": []
   },
   "source": [
    "## <span style=\"color:blue\">Data Sources and Methodology</span>\n",
    "\n",
    "Our approach to gathering and analyzing data involves two primary steps:\n",
    "\n",
    "- **Data Collection**:\n",
    "  - **Web Scraping**: Wikipedia and Worldometers\n",
    "  - **Public Health Databases**: World Health Oraganization\n",
    "\n",
    "- **Analysis Methods**:\n",
    "  - **Mapping**: geographic patterns\n",
    "  - **Statistical Analysis**: correlations \n",
    "\n",
    "---"
   ]
  },
  {
   "cell_type": "code",
   "execution_count": 2,
   "id": "d608e21a-39d3-428d-8fce-69f2e704da11",
   "metadata": {
    "editable": true,
    "slideshow": {
     "slide_type": "subslide"
    },
    "tags": []
   },
   "outputs": [],
   "source": [
    "%run Scrape.ipynb\n",
    "#dfMFP2023"
   ]
  },
  {
   "cell_type": "markdown",
   "id": "af590f5a-650a-46be-9c5d-5286732ab04f",
   "metadata": {
    "editable": true,
    "slideshow": {
     "slide_type": "slide"
    },
    "tags": []
   },
   "source": [
    "## <span style=\"color:blue\"> Global Scatterplot - Child Mortality and Medical Doctor density</span>\n",
    "\n",
    "---"
   ]
  },
  {
   "cell_type": "code",
   "execution_count": 3,
   "id": "5721a3c6-a4f6-40ee-b21e-d81b6480e62a",
   "metadata": {
    "editable": true,
    "slideshow": {
     "slide_type": "subslide"
    },
    "tags": []
   },
   "outputs": [],
   "source": [
    "#%run Scatterplot1.ipynb"
   ]
  },
  {
   "cell_type": "markdown",
   "id": "c98494ae-de85-4bf4-abab-ab8e2afa19c4",
   "metadata": {
    "editable": true,
    "slideshow": {
     "slide_type": "slide"
    },
    "tags": []
   },
   "source": [
    "## <span style=\"color:blue\">Medical Facilities in Central Africa</span>\n",
    "\n",
    "---"
   ]
  },
  {
   "cell_type": "code",
   "execution_count": 4,
   "id": "2aada313-2720-4caf-943a-534505ea36df",
   "metadata": {
    "editable": true,
    "slideshow": {
     "slide_type": "subslide"
    },
    "tags": []
   },
   "outputs": [],
   "source": [
    "#Map Central Africa\n",
    "#%run CentralAfrica.ipynb"
   ]
  },
  {
   "cell_type": "markdown",
   "id": "e1b68643-7d52-43e0-b33b-976bfea9dc18",
   "metadata": {
    "editable": true,
    "slideshow": {
     "slide_type": "slide"
    },
    "tags": []
   },
   "source": [
    "## <span style=\"color:blue\">Correlation: central Africa</span>\n",
    "- Heatmap plot for Central Africa to check correlation for \"our\" indicator with child mortality and Medical doctors' density"
   ]
  },
  {
   "cell_type": "code",
   "execution_count": 5,
   "id": "3b4d4911-e342-4864-a040-4678823bfd06",
   "metadata": {
    "editable": true,
    "slideshow": {
     "slide_type": "subslide"
    },
    "tags": []
   },
   "outputs": [],
   "source": [
    "#%run Corr_heatmap.ipynb"
   ]
  },
  {
   "cell_type": "markdown",
   "id": "1ec1bea1-b5a3-4586-b976-8ff7f880613a",
   "metadata": {
    "editable": true,
    "slideshow": {
     "slide_type": "slide"
    },
    "tags": []
   },
   "source": [
    "## <span style=\"color:blue\">Conclusions</span>\n",
    "\n",
    "### <span style=\"color:blue\">Key Insights and Observations</span>\n",
    "1. Hospital density and Medical density have a strong correlation with Child Mortality\n",
    "2. Solid results from Wikipedia (comparable results with similar magnitude)\n",
    "\n",
    "### <span style=\"color:blue\">Recommendations and Next Steps\n",
    "1. Zoom in, i.e. by region, and use the scatter of locations of hospitals to identify under-served areas\n",
    "2. Additional health indicators such as Child, Teenager, and Adult Health\n",
    "3. How do child health indicators (e.g., vaccination, malnutrition, and infant mortality rates) vary across these regions?\n",
    "4. Proposals for policy changes or public health interventions."
   ]
  },
  {
   "cell_type": "code",
   "execution_count": 6,
   "id": "27f6c21c-cc99-4060-9e65-a14a61dc7b1f",
   "metadata": {
    "editable": true,
    "slideshow": {
     "slide_type": "subslide"
    },
    "tags": []
   },
   "outputs": [],
   "source": [
    "#Map with location\n",
    "#%run Laura_hospitalMap.ipynb"
   ]
  }
 ],
 "metadata": {
  "kernelspec": {
   "display_name": "VIZ",
   "language": "python",
   "name": "viz"
  },
  "language_info": {
   "codemirror_mode": {
    "name": "ipython",
    "version": 3
   },
   "file_extension": ".py",
   "mimetype": "text/x-python",
   "name": "python",
   "nbconvert_exporter": "python",
   "pygments_lexer": "ipython3",
   "version": "3.10.13"
  }
 },
 "nbformat": 4,
 "nbformat_minor": 5
}
