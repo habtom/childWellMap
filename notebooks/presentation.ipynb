{
 "cells": [
  {
   "cell_type": "markdown",
   "id": "733cb901-d182-461e-bad6-4a716e7deba8",
   "metadata": {},
   "source": [
    "# ChildWellMap Challenge: Mapping Child Health and Hospital Density\n",
    "\n",
    "- Laura Giulietti\n",
    "- Lorenz Schmid\n",
    "- Habtom Kahsay Gidey\n",
    "\n",
    "  **01.03.2024**\n",
    "\n",
    "---"
   ]
  },
  {
   "cell_type": "markdown",
   "id": "27678fe2-3c36-4e1a-a087-fb12badd41a1",
   "metadata": {},
   "source": [
    "## Introduction\n",
    "\n",
    "- Objective 1: Analyze the distribution of hospitals and healthcare facilities.\n",
    "- Objective 2: Investigate child health indicators across regions.\n",
    "- Objective 3: Explore the correlation between hospital density and child health outcomes.\n",
    "---"
   ]
  },
  {
   "cell_type": "markdown",
   "id": "c9ec0a87-d530-455c-b89b-23e5ef2dd7cb",
   "metadata": {},
   "source": [
    "## Background and Motivation\n",
    "\n",
    "- Importance of accessible healthcare for child health outcomes.\n",
    "- Reference to previous studies or findings that inspired this project.\n",
    "\n",
    "---"
   ]
  },
  {
   "cell_type": "markdown",
   "id": "94ffbd0c-e2fa-4e64-a38e-7c8b0879a8b7",
   "metadata": {},
   "source": [
    "## Data Sources and Methodology\n",
    "\n",
    "Our approach to gathering and analyzing data involves two primary steps:\n",
    "\n",
    "- **Data Collection**:\n",
    "  - **Web Scraping**: We used target-specific scraping online resources for data collection (a combination of Wikipedia and Worldometers).\n",
    "  - **Public Health Databases**: Additional sources for child health indicators.\n",
    "  - **Google Maps API**: Used for identifying locations of hospitals and healthcare facilities.[Remove??? ]\n",
    "\n",
    "\n",
    "- **Analysis Methods**:\n",
    "  - **Mapping**: Visual data representation to identify geographic patterns and areas with low healthcare access.\n",
    "  - **Statistical Analysis**: To explore correlations between healthcare facility density and child health outcomes.\n",
    "\n",
    "In the next section, we demonstrate a portion of our data collection process, focusing on web scraping for medical facilities and population data within Central African countries.\n",
    "\n",
    "---"
   ]
  },
  {
   "cell_type": "code",
   "execution_count": 17,
   "id": "d608e21a-39d3-428d-8fce-69f2e704da11",
   "metadata": {},
   "outputs": [
    {
     "name": "stdout",
     "output_type": "stream",
     "text": [
      "Data successfully saved to medicalFacilitiesPopulation2023.csv.\n"
     ]
    },
    {
     "data": {
      "text/html": [
       "<div>\n",
       "<style scoped>\n",
       "    .dataframe tbody tr th:only-of-type {\n",
       "        vertical-align: middle;\n",
       "    }\n",
       "\n",
       "    .dataframe tbody tr th {\n",
       "        vertical-align: top;\n",
       "    }\n",
       "\n",
       "    .dataframe thead th {\n",
       "        text-align: right;\n",
       "    }\n",
       "</style>\n",
       "<table border=\"1\" class=\"dataframe\">\n",
       "  <thead>\n",
       "    <tr style=\"text-align: right;\">\n",
       "      <th></th>\n",
       "      <th>Country</th>\n",
       "      <th>Medical Facilities</th>\n",
       "      <th>Population</th>\n",
       "      <th>Density Med Fac (100,000 pop)</th>\n",
       "    </tr>\n",
       "  </thead>\n",
       "  <tbody>\n",
       "    <tr>\n",
       "      <th>0</th>\n",
       "      <td>Angola</td>\n",
       "      <td>1575</td>\n",
       "      <td>36684202</td>\n",
       "      <td>4.293401</td>\n",
       "    </tr>\n",
       "    <tr>\n",
       "      <th>1</th>\n",
       "      <td>Burundi</td>\n",
       "      <td>665</td>\n",
       "      <td>13238559</td>\n",
       "      <td>5.023205</td>\n",
       "    </tr>\n",
       "    <tr>\n",
       "      <th>2</th>\n",
       "      <td>Cameroon</td>\n",
       "      <td>3061</td>\n",
       "      <td>28647293</td>\n",
       "      <td>10.685128</td>\n",
       "    </tr>\n",
       "    <tr>\n",
       "      <th>3</th>\n",
       "      <td>Central African Republic</td>\n",
       "      <td>555</td>\n",
       "      <td>5742315</td>\n",
       "      <td>9.665092</td>\n",
       "    </tr>\n",
       "    <tr>\n",
       "      <th>4</th>\n",
       "      <td>Chad</td>\n",
       "      <td>1283</td>\n",
       "      <td>18278568</td>\n",
       "      <td>7.019149</td>\n",
       "    </tr>\n",
       "    <tr>\n",
       "      <th>5</th>\n",
       "      <td>Democratic Republic of the Congo</td>\n",
       "      <td>14586</td>\n",
       "      <td>102262808</td>\n",
       "      <td>14.263250</td>\n",
       "    </tr>\n",
       "    <tr>\n",
       "      <th>6</th>\n",
       "      <td>Republic of the Congo</td>\n",
       "      <td>328</td>\n",
       "      <td>6106869</td>\n",
       "      <td>5.371001</td>\n",
       "    </tr>\n",
       "    <tr>\n",
       "      <th>7</th>\n",
       "      <td>Equatorial Guinea</td>\n",
       "      <td>47</td>\n",
       "      <td>1714671</td>\n",
       "      <td>2.741051</td>\n",
       "    </tr>\n",
       "    <tr>\n",
       "      <th>8</th>\n",
       "      <td>Gabon</td>\n",
       "      <td>542</td>\n",
       "      <td>2436566</td>\n",
       "      <td>22.244421</td>\n",
       "    </tr>\n",
       "    <tr>\n",
       "      <th>9</th>\n",
       "      <td>Rwanda</td>\n",
       "      <td>572</td>\n",
       "      <td>14094683</td>\n",
       "      <td>4.058268</td>\n",
       "    </tr>\n",
       "    <tr>\n",
       "      <th>10</th>\n",
       "      <td>São Tomé and Príncipe</td>\n",
       "      <td>50</td>\n",
       "      <td>231856</td>\n",
       "      <td>21.565109</td>\n",
       "    </tr>\n",
       "  </tbody>\n",
       "</table>\n",
       "</div>"
      ],
      "text/plain": [
       "                             Country  Medical Facilities  Population  \\\n",
       "0                             Angola                1575    36684202   \n",
       "1                            Burundi                 665    13238559   \n",
       "2                           Cameroon                3061    28647293   \n",
       "3           Central African Republic                 555     5742315   \n",
       "4                               Chad                1283    18278568   \n",
       "5   Democratic Republic of the Congo               14586   102262808   \n",
       "6              Republic of the Congo                 328     6106869   \n",
       "7                  Equatorial Guinea                  47     1714671   \n",
       "8                              Gabon                 542     2436566   \n",
       "9                             Rwanda                 572    14094683   \n",
       "10             São Tomé and Príncipe                  50      231856   \n",
       "\n",
       "    Density Med Fac (100,000 pop)  \n",
       "0                        4.293401  \n",
       "1                        5.023205  \n",
       "2                       10.685128  \n",
       "3                        9.665092  \n",
       "4                        7.019149  \n",
       "5                       14.263250  \n",
       "6                        5.371001  \n",
       "7                        2.741051  \n",
       "8                       22.244421  \n",
       "9                        4.058268  \n",
       "10                      21.565109  "
      ]
     },
     "execution_count": 17,
     "metadata": {},
     "output_type": "execute_result"
    }
   ],
   "source": [
    "%run Scrape.ipynb\n",
    "dfMFP2023 = pd.read_csv(csvMFP2023)\n",
    "#Adding Density Med Fac 2023\n",
    "dfMFP2023['Density Med Fac (100,000 pop)'] = dfMFP2023['Medical Facilities']/(dfMFP2023['Population']/100000)\n",
    "dfMFP2023"
   ]
  },
  {
   "cell_type": "markdown",
   "id": "af590f5a-650a-46be-9c5d-5286732ab04f",
   "metadata": {},
   "source": [
    "## Mapping Healthcare Facilities\n",
    "\n",
    "- Map visualizing the distribution of healthcare facilities.\n",
    "- Areas with low access to healthcare highlighted.\n",
    "\n",
    "---"
   ]
  },
  {
   "cell_type": "markdown",
   "id": "e1b68643-7d52-43e0-b33b-976bfea9dc18",
   "metadata": {},
   "source": [
    "## Child Health Indicators Analysis\n",
    "\n",
    "- Key findings from analysis of child health indicators.\n",
    "- Graphs or charts showcasing disparities or significant patterns across regions.\n",
    "\n",
    "---"
   ]
  },
  {
   "cell_type": "markdown",
   "id": "c98494ae-de85-4bf4-abab-ab8e2afa19c4",
   "metadata": {},
   "source": [
    "## Correlation Analysis\n",
    "- Results of statistical analysis exploring the relationship between hospital density and child health outcomes.\n",
    "- Charts or graphs illustrating key findings.\n",
    "\n",
    "---"
   ]
  },
  {
   "cell_type": "markdown",
   "id": "1ec1bea1-b5a3-4586-b976-8ff7f880613a",
   "metadata": {},
   "source": [
    "## Key Insights and Observations\n",
    "- Summary of the most striking insights from the analysis.\n",
    "- Highlighting regions in need of intervention or strong correlations.\n",
    "\n",
    "---"
   ]
  },
  {
   "cell_type": "markdown",
   "id": "b32cab08-8fde-4cee-8a9f-4e92a8a2a0b7",
   "metadata": {},
   "source": [
    "## Recommendations and Next Steps\n",
    "- Suggestions for areas where additional healthcare facilities could have a significant impact.\n",
    "- Proposals for policy changes or public health interventions.\n",
    "\n",
    "- ---"
   ]
  },
  {
   "cell_type": "markdown",
   "id": "5406ad5b-0608-4b05-a4c3-b2e86152bf0e",
   "metadata": {},
   "source": [
    "## Conclusion\n",
    "- Recap of main findings and potential impact of the work.\n",
    "- Questions and further discussion.\n",
    "\n",
    "---"
   ]
  },
  {
   "cell_type": "code",
   "execution_count": null,
   "id": "7a32c77d-ee7e-4c78-b963-4dbbcae2faa6",
   "metadata": {},
   "outputs": [],
   "source": []
  }
 ],
 "metadata": {
  "kernelspec": {
   "display_name": "Python 3 (ipykernel)",
   "language": "python",
   "name": "python3"
  },
  "language_info": {
   "codemirror_mode": {
    "name": "ipython",
    "version": 3
   },
   "file_extension": ".py",
   "mimetype": "text/x-python",
   "name": "python",
   "nbconvert_exporter": "python",
   "pygments_lexer": "ipython3",
   "version": "3.11.7"
  }
 },
 "nbformat": 4,
 "nbformat_minor": 5
}
