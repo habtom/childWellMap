{
 "cells": [
  {
   "cell_type": "code",
   "execution_count": 13,
   "id": "0ca04bea-34c8-4a17-8278-35d3147c21cf",
   "metadata": {
    "editable": true,
    "slideshow": {
     "slide_type": ""
    },
    "tags": []
   },
   "outputs": [],
   "source": [
    "### Data cleaning: data from WHO and Worldbank data\n",
    "\n",
    "import pandas as pd\n",
    "import plotly.graph_objects as go\n",
    "import plotly.express as px"
   ]
  },
  {
   "cell_type": "code",
   "execution_count": 14,
   "id": "33fcd244-e4bb-4f44-8efd-06c9edcfa169",
   "metadata": {},
   "outputs": [],
   "source": [
    "#### countries we're interested in\n",
    "countries = [\n",
    "    \"Angola\",\n",
    "    \"Burundi\",\n",
    "    \"Cameroon\",\n",
    "    \"Central African Republic\",\n",
    "    \"Chad\",\n",
    "    \"Democratic Republic of the Congo\",\n",
    "    \"Equatorial Guinea\",\n",
    "    \"Gabon\",\n",
    "    \"Congo\",\n",
    "    \"Rwanda\",\n",
    "    \"Sao Tome and Principe\"\n",
    "]"
   ]
  },
  {
   "cell_type": "code",
   "execution_count": 15,
   "id": "25c1f311-a768-4add-8392-b1c1cdc3ffc2",
   "metadata": {},
   "outputs": [],
   "source": [
    "# medical doctors per 10,000\n",
    "df_md = pd.read_csv(\"../data/MD_10000.csv\")\n",
    "#df_md.head()"
   ]
  },
  {
   "cell_type": "code",
   "execution_count": 16,
   "id": "49f2851a-bc3e-4fe6-b872-537aeef34c32",
   "metadata": {},
   "outputs": [],
   "source": [
    "### keep data from latest year -> only work with this\n",
    "## 195 countries\n",
    "df_md_work = df_md[df_md[\"IsLatestYear\"] == True]\n",
    "#df_md_work.shape\n",
    "\n",
    "# print(df_md_work[\"Location\"].to_string())"
   ]
  },
  {
   "cell_type": "code",
   "execution_count": 17,
   "id": "5b316ba9-3125-48ee-8103-95c05b8c71fe",
   "metadata": {},
   "outputs": [],
   "source": [
    "### Keep variables of interest:\n",
    "# Country, Country Code, Value of indicator, Year of data\n",
    "\n",
    "##  also include year of data\n",
    "df_md_work = df_md_work[[\"ParentLocation\", \"ParentLocationCode\", \"Location\", \"Value\", \"Period\", \"SpatialDimValueCode\"]]\n",
    "\n",
    "df_md_merge = df_md_work.rename(columns = {\"Value\" : \"Medical Doctors per 10k inhabitants\",\n",
    "                                          \"Period\" : \"Period_doctor_data\"})\n",
    "\n",
    "#df_md_merge.head()"
   ]
  },
  {
   "cell_type": "code",
   "execution_count": 18,
   "id": "ee298332-9dd1-4bef-b095-0d725290b694",
   "metadata": {},
   "outputs": [],
   "source": [
    "df_under5 = pd.read_csv(\"../data/under_five.csv\")\n",
    "#df_under5.head()"
   ]
  },
  {
   "cell_type": "code",
   "execution_count": 19,
   "id": "ea634e70-d7a5-4327-bf31-172bdda6e430",
   "metadata": {},
   "outputs": [],
   "source": [
    "df_under5.columns\n",
    "test = df_under5[df_under5['Location'].isin(countries)]\n",
    "# we only have data from 9 countries from the area\n",
    "#print(test[\"Location\"].unique())\n",
    "#print(countries)"
   ]
  },
  {
   "cell_type": "code",
   "execution_count": 20,
   "id": "1ada74e4-583d-459b-9e56-6c5b4fb3398d",
   "metadata": {},
   "outputs": [
    {
     "data": {
      "text/plain": [
       "0       1.56\n",
       "1       1.72\n",
       "2       1.79\n",
       "3       1.86\n",
       "4       1.91\n",
       "       ...  \n",
       "592    97.07\n",
       "593    97.62\n",
       "594    98.69\n",
       "595    98.73\n",
       "596    99.92\n",
       "Name: FactValueNumeric, Length: 597, dtype: float64"
      ]
     },
     "execution_count": 20,
     "metadata": {},
     "output_type": "execute_result"
    }
   ],
   "source": [
    "df_under5_work = df_under5[df_under5[\"IsLatestYear\"] == True]\n",
    "#print(df_under5_work.shape)\n",
    "\n",
    "# drop Na rows\n",
    "df_under5_work = df_under5_work.dropna(subset=['FactValueNumeric'])\n",
    "\n",
    "df_under5_work[\"FactValueNumeric\"]"
   ]
  },
  {
   "cell_type": "code",
   "execution_count": 21,
   "id": "ab2e2d83-269c-4acb-ae3f-4c515a5dc6fe",
   "metadata": {},
   "outputs": [],
   "source": [
    "## under 5 mortality is reported by sex, and total:\n",
    "## take only row with both sexes\n",
    "df_under5_work = df_under5_work[df_under5_work[\"Dim1\"] == \"Both sexes\"]\n",
    "# set country as index or reset_index() after grouping\n",
    "\n",
    "## only keep important columns and drop rows where no FactValueNumeric is present\n",
    "df_under5_merge = df_under5_work[[\"Location\", \"Period\", \"FactValueNumeric\"]]"
   ]
  },
  {
   "cell_type": "code",
   "execution_count": 22,
   "id": "01aec210-a200-409f-aa1a-e99071a8b48e",
   "metadata": {},
   "outputs": [],
   "source": [
    "#df_under5_merge\n",
    "\n",
    "df_under5_merge = df_under5_merge.rename(columns = {\"FactValueNumeric\" : \"Infant mortality per 1000 live births\"})\n",
    "\n",
    "#df_under5_merge"
   ]
  },
  {
   "cell_type": "code",
   "execution_count": 23,
   "id": "fd764bd7-4fb8-464a-9cea-6690ff1ae0eb",
   "metadata": {},
   "outputs": [],
   "source": [
    "### Match the Medical doctors and the infant mortality data set\n",
    "# only keep rows where both data sets has rows\n",
    "WHO_data = pd.merge(df_md_merge, df_under5_merge, on='Location', how='inner')\n",
    "\n",
    "WHO_data[\"MD to Mortality ratio\"] = WHO_data[\"Medical Doctors per 10k inhabitants\"]/WHO_data[\"Infant mortality per 1000 live births\"]\n",
    "\n",
    "#WHO_data.head()"
   ]
  },
  {
   "cell_type": "code",
   "execution_count": 26,
   "id": "2e2afadc-bd9e-4885-91d2-94c484027905",
   "metadata": {
    "editable": true,
    "slideshow": {
     "slide_type": ""
    },
    "tags": []
   },
   "outputs": [
    {
     "data": {
      "application/vnd.plotly.v1+json": {
       "config": {
        "plotlyServerURL": "https://plot.ly"
       },
       "data": [
        {
         "customdata": [
          [
           "Chad"
          ],
          [
           "Togo"
          ],
          [
           "Papua New Guinea"
          ],
          [
           "Burundi"
          ],
          [
           "Mozambique"
          ],
          [
           "Cameroon"
          ],
          [
           "Tonga"
          ],
          [
           "Sri Lanka"
          ],
          [
           "Peru"
          ],
          [
           "Brunei Darussalam"
          ],
          [
           "Guinea-Bissau"
          ],
          [
           "Kenya"
          ],
          [
           "Zambia"
          ],
          [
           "Brazil"
          ],
          [
           "Colombia"
          ],
          [
           "Canada"
          ],
          [
           "Montenegro"
          ],
          [
           "Costa Rica"
          ],
          [
           "Saudi Arabia"
          ],
          [
           "El Salvador"
          ],
          [
           "Chile"
          ],
          [
           "Lao People's Democratic Republic"
          ],
          [
           "Nigeria"
          ],
          [
           "United Kingdom of Great Britain and Northern Ireland"
          ],
          [
           "Paraguay"
          ],
          [
           "Hungary"
          ],
          [
           "Trinidad and Tobago"
          ],
          [
           "New Zealand"
          ],
          [
           "Israel"
          ],
          [
           "Ireland"
          ],
          [
           "Italy"
          ],
          [
           "Switzerland"
          ],
          [
           "Germany"
          ],
          [
           "Slovakia"
          ],
          [
           "Lithuania"
          ],
          [
           "Bhutan"
          ],
          [
           "Norway"
          ],
          [
           "Cyprus"
          ],
          [
           "Georgia"
          ],
          [
           "Austria"
          ],
          [
           "Czechia"
          ],
          [
           "Malta"
          ],
          [
           "Bangladesh"
          ],
          [
           "Indonesia"
          ],
          [
           "Uruguay"
          ],
          [
           "Belgium"
          ],
          [
           "Philippines"
          ],
          [
           "South Africa"
          ],
          [
           "Nepal"
          ],
          [
           "Niger"
          ],
          [
           "Malawi"
          ],
          [
           "Sierra Leone"
          ],
          [
           "Gambia"
          ],
          [
           "Eritrea"
          ],
          [
           "Senegal"
          ],
          [
           "Ethiopia"
          ],
          [
           "Eswatini"
          ],
          [
           "Uganda"
          ],
          [
           "Ghana"
          ],
          [
           "Zimbabwe"
          ],
          [
           "Tuvalu"
          ],
          [
           "Guatemala"
          ],
          [
           "Guyana"
          ],
          [
           "Panama"
          ],
          [
           "Palau"
          ],
          [
           "Albania"
          ],
          [
           "Oman"
          ],
          [
           "Afghanistan"
          ],
          [
           "Türkiye"
          ],
          [
           "Malaysia"
          ],
          [
           "Kuwait"
          ],
          [
           "China"
          ],
          [
           "Mexico"
          ],
          [
           "Republic of Korea"
          ],
          [
           "Japan"
          ],
          [
           "Mauritius"
          ],
          [
           "United Arab Emirates"
          ],
          [
           "Slovenia"
          ],
          [
           "France"
          ],
          [
           "Latvia"
          ],
          [
           "United States of America"
          ],
          [
           "Poland"
          ],
          [
           "Russian Federation"
          ],
          [
           "Netherlands"
          ],
          [
           "Estonia"
          ],
          [
           "Argentina"
          ],
          [
           "Honduras"
          ],
          [
           "Kazakhstan"
          ],
          [
           "Republic of Moldova"
          ],
          [
           "Australia"
          ],
          [
           "Finland"
          ],
          [
           "Spain"
          ],
          [
           "Samoa"
          ],
          [
           "Gabon"
          ],
          [
           "Portugal"
          ],
          [
           "Greece"
          ],
          [
           "India"
          ],
          [
           "Timor-Leste"
          ],
          [
           "Sweden"
          ],
          [
           "Iraq"
          ],
          [
           "Thailand"
          ],
          [
           "Micronesia (Federated States of)"
          ],
          [
           "Benin"
          ],
          [
           "Burkina Faso"
          ],
          [
           "Rwanda"
          ],
          [
           "Vanuatu"
          ],
          [
           "Côte d’Ivoire"
          ],
          [
           "Pakistan"
          ],
          [
           "Cook Islands"
          ],
          [
           "Dominican Republic"
          ],
          [
           "Cambodia"
          ],
          [
           "Seychelles"
          ],
          [
           "Maldives"
          ],
          [
           "Kyrgyzstan"
          ],
          [
           "Singapore"
          ],
          [
           "Jordan"
          ],
          [
           "Lebanon"
          ],
          [
           "Azerbaijan"
          ],
          [
           "Croatia"
          ],
          [
           "Iceland"
          ],
          [
           "Sao Tome and Principe"
          ],
          [
           "Denmark"
          ],
          [
           "Belarus"
          ],
          [
           "Egypt"
          ],
          [
           "Myanmar"
          ],
          [
           "South Sudan"
          ],
          [
           "United Republic of Tanzania"
          ],
          [
           "Liberia"
          ],
          [
           "Central African Republic"
          ],
          [
           "Congo"
          ],
          [
           "Mali"
          ],
          [
           "Mauritania"
          ],
          [
           "Madagascar"
          ],
          [
           "Belize"
          ],
          [
           "Dominica"
          ],
          [
           "Grenada"
          ],
          [
           "Iran (Islamic Republic of)"
          ],
          [
           "Algeria"
          ],
          [
           "Angola"
          ],
          [
           "Guinea"
          ],
          [
           "Haiti"
          ],
          [
           "Comoros"
          ],
          [
           "Occupied Palestinian territory"
          ],
          [
           "Qatar"
          ],
          [
           "Botswana"
          ],
          [
           "Democratic Republic of the Congo"
          ],
          [
           "Saint Kitts and Nevis"
          ],
          [
           "Mongolia"
          ],
          [
           "Lesotho"
          ],
          [
           "Bulgaria"
          ],
          [
           "Jamaica"
          ],
          [
           "Namibia"
          ],
          [
           "Nicaragua"
          ],
          [
           "Cabo Verde"
          ],
          [
           "Suriname"
          ],
          [
           "Cuba"
          ],
          [
           "Bolivia (Plurinational State of)"
          ],
          [
           "Tunisia"
          ],
          [
           "Venezuela (Bolivarian Republic of)"
          ],
          [
           "Bahamas"
          ],
          [
           "Sudan"
          ],
          [
           "Libya"
          ],
          [
           "Ecuador"
          ],
          [
           "Barbados"
          ],
          [
           "Antigua and Barbuda"
          ],
          [
           "Romania"
          ],
          [
           "Luxembourg"
          ],
          [
           "Equatorial Guinea"
          ],
          [
           "Democratic People's Republic of Korea"
          ],
          [
           "Armenia"
          ],
          [
           "Saint Lucia"
          ],
          [
           "Morocco"
          ],
          [
           "Solomon Islands"
          ],
          [
           "Syrian Arab Republic"
          ],
          [
           "Serbia"
          ],
          [
           "Viet Nam"
          ],
          [
           "Bahrain"
          ],
          [
           "Nauru"
          ],
          [
           "Bosnia and Herzegovina"
          ],
          [
           "The former Yugoslav Republic of Macedonia"
          ],
          [
           "Andorra"
          ],
          [
           "Fiji"
          ],
          [
           "Somalia"
          ],
          [
           "Tajikistan"
          ],
          [
           "Djibouti"
          ],
          [
           "Yemen"
          ],
          [
           "Turkmenistan"
          ],
          [
           "Uzbekistan"
          ],
          [
           "Ukraine"
          ],
          [
           "San Marino"
          ],
          [
           "Monaco"
          ],
          [
           "Kiribati"
          ],
          [
           "Marshall Islands"
          ],
          [
           "Saint Vincent and the Grenadines"
          ],
          [
           "Niue"
          ]
         ],
         "hovertemplate": "Medical Doctors per 10k inhabitants=%{x}<br>Infant mortality per 1000 live births=%{y}<br>Location=%{customdata[0]}<extra></extra>",
         "legendgroup": "",
         "marker": {
          "color": "#636efa",
          "symbol": "circle"
         },
         "mode": "markers",
         "name": "",
         "orientation": "v",
         "showlegend": false,
         "type": "scatter",
         "x": [
          0.582,
          0.585,
          0.629,
          0.647,
          0.814,
          1.242,
          10.094,
          11.924,
          16.455,
          19.129,
          2.198,
          2.26,
          2.965,
          21.42,
          23.615,
          24.636,
          27.68,
          27.703,
          27.885,
          29.13,
          29.729,
          3.265,
          3.949,
          31.711,
          32.42,
          32.906,
          34.115,
          35.162,
          36.539,
          40.622,
          41.263,
          44.427,
          45.184,
          46.292,
          49.503,
          5.595,
          51.684,
          53.753,
          54.047,
          54.589,
          54.686,
          54.851,
          6.7,
          6.95,
          62,
          62.574,
          7.862,
          8.085,
          8.674,
          0.343,
          0.494,
          0.7,
          0.773,
          0.818,
          0.842,
          1.039,
          1.397,
          1.583,
          1.642,
          1.887,
          12.613,
          12.802,
          14.049,
          16.291,
          17.778,
          18.826,
          19.937,
          2.535,
          20.355,
          22.281,
          22.934,
          23.873,
          24.405,
          25.078,
          26.141,
          26.583,
          28.788,
          32.792,
          33.237,
          33.451,
          35.55,
          37.137,
          38.271,
          38.355,
          38.634,
          38.951,
          4.893,
          40.277,
          40.573,
          41.018,
          43.252,
          45.766,
          5.537,
          5.941,
          56.152,
          63.06,
          7.265,
          7.669,
          70.616,
          9.132,
          9.276,
          9.634,
          0.621,
          0.912,
          1.162,
          1.577,
          1.596,
          10.842,
          13.45,
          14.327,
          2.143,
          21.073,
          21.606,
          21.679,
          24.34,
          25.129,
          26.17,
          31.105,
          34.655,
          38.914,
          4.893,
          42.642,
          44.343,
          7.094,
          7.509,
          0.395,
          0.497,
          0.503,
          0.658,
          1,
          1.231,
          1.922,
          1.948,
          10.809,
          11.158,
          13.136,
          15.138,
          17.317,
          2.108,
          2.22,
          2.366,
          2.834,
          21.677,
          24.986,
          3.48,
          3.622,
          30.335,
          38.594,
          4.54,
          41.682,
          5.498,
          6.007,
          6.637,
          7.913,
          7.95,
          84.273,
          10.081,
          12.608,
          16.643,
          18.546,
          2.626,
          21.568,
          22.317,
          25.501,
          28.979,
          29.739,
          29.851,
          3.495,
          36.709,
          45.457,
          6.546,
          7.319,
          1.911,
          11.856,
          36.784,
          8.326,
          8.42,
          12.5,
          21.034,
          28.344,
          36.262,
          8.144,
          0.232,
          17.077,
          2.032,
          2.936,
          21.474,
          23.726,
          29.898,
          60.18,
          77.562,
          1.942,
          4.598,
          9.436,
          16.667
         ],
         "xaxis": "x",
         "y": [
          107.1,
          62.6,
          42.81,
          52.6,
          69.56,
          69.79,
          11.14,
          6.75,
          14.12,
          11.48,
          74.31,
          37.15,
          57.69,
          14.41,
          12.85,
          5.04,
          2.26,
          7.65,
          6.72,
          12.43,
          6.55,
          42.51,
          110.8,
          4.19,
          18.16,
          4,
          16.33,
          4.73,
          3.36,
          3.15,
          2.61,
          3.83,
          3.57,
          5.63,
          3.31,
          26.69,
          2.17,
          2.79,
          9.48,
          3.66,
          2.75,
          5.83,
          27.27,
          22.17,
          5.82,
          4.1,
          25.74,
          32.85,
          27.16,
          115.2,
          41.9,
          104.7,
          47.89,
          38.09,
          38.6,
          46.81,
          52.63,
          42.13,
          43.97,
          49.52,
          21.25,
          23.02,
          27.68,
          13.87,
          16.25,
          9.46,
          10.14,
          55.66,
          8.98,
          7.56,
          8.73,
          6.93,
          13.24,
          2.89,
          2.3,
          16.62,
          6.37,
          2.17,
          4.35,
          3.68,
          6.24,
          4.35,
          5.05,
          4.05,
          2,
          6.92,
          16.56,
          10.27,
          14.2,
          3.71,
          2.17,
          3.05,
          16.72,
          39.75,
          3.1,
          3.71,
          30.62,
          50.55,
          2.46,
          24.52,
          8.29,
          24.85,
          83.52,
          82.61,
          39.44,
          23.21,
          74.79,
          63.33,
          7.17,
          33,
          24.76,
          13.91,
          5.96,
          17.4,
          2.09,
          14.6,
          8.24,
          18.59,
          4.64,
          2.64,
          15.43,
          3.58,
          2.72,
          18.96,
          41.81,
          98.69,
          47.12,
          76.04,
          99.92,
          42.97,
          97.07,
          40.5,
          66,
          11.19,
          35.89,
          16.18,
          12.63,
          22.34,
          69.42,
          98.73,
          58.63,
          49.72,
          14.83,
          5.31,
          34.87,
          78.96,
          14.56,
          14.73,
          72.93,
          6.32,
          12.4,
          39.04,
          13.26,
          13.55,
          17.18,
          5,
          24.69,
          16.32,
          24.23,
          13.16,
          54.9,
          10.77,
          12.46,
          11.91,
          6.14,
          6.43,
          2.73,
          76.78,
          15.4,
          10.72,
          24.82,
          18,
          18.79,
          22.27,
          5.49,
          20.6,
          6.92,
          27.59,
          5.6,
          5.31,
          2.76,
          27.73,
          111.8,
          31.42,
          54.14,
          61.91,
          41.43,
          14.07,
          8.22,
          1.72,
          2.92,
          48.23,
          29.73,
          13.71,
          24.13
         ],
         "yaxis": "y"
        }
       ],
       "layout": {
        "autosize": true,
        "legend": {
         "tracegroupgap": 0
        },
        "template": {
         "data": {
          "bar": [
           {
            "error_x": {
             "color": "#2a3f5f"
            },
            "error_y": {
             "color": "#2a3f5f"
            },
            "marker": {
             "line": {
              "color": "#E5ECF6",
              "width": 0.5
             },
             "pattern": {
              "fillmode": "overlay",
              "size": 10,
              "solidity": 0.2
             }
            },
            "type": "bar"
           }
          ],
          "barpolar": [
           {
            "marker": {
             "line": {
              "color": "#E5ECF6",
              "width": 0.5
             },
             "pattern": {
              "fillmode": "overlay",
              "size": 10,
              "solidity": 0.2
             }
            },
            "type": "barpolar"
           }
          ],
          "carpet": [
           {
            "aaxis": {
             "endlinecolor": "#2a3f5f",
             "gridcolor": "white",
             "linecolor": "white",
             "minorgridcolor": "white",
             "startlinecolor": "#2a3f5f"
            },
            "baxis": {
             "endlinecolor": "#2a3f5f",
             "gridcolor": "white",
             "linecolor": "white",
             "minorgridcolor": "white",
             "startlinecolor": "#2a3f5f"
            },
            "type": "carpet"
           }
          ],
          "choropleth": [
           {
            "colorbar": {
             "outlinewidth": 0,
             "ticks": ""
            },
            "type": "choropleth"
           }
          ],
          "contour": [
           {
            "colorbar": {
             "outlinewidth": 0,
             "ticks": ""
            },
            "colorscale": [
             [
              0,
              "#0d0887"
             ],
             [
              0.1111111111111111,
              "#46039f"
             ],
             [
              0.2222222222222222,
              "#7201a8"
             ],
             [
              0.3333333333333333,
              "#9c179e"
             ],
             [
              0.4444444444444444,
              "#bd3786"
             ],
             [
              0.5555555555555556,
              "#d8576b"
             ],
             [
              0.6666666666666666,
              "#ed7953"
             ],
             [
              0.7777777777777778,
              "#fb9f3a"
             ],
             [
              0.8888888888888888,
              "#fdca26"
             ],
             [
              1,
              "#f0f921"
             ]
            ],
            "type": "contour"
           }
          ],
          "contourcarpet": [
           {
            "colorbar": {
             "outlinewidth": 0,
             "ticks": ""
            },
            "type": "contourcarpet"
           }
          ],
          "heatmap": [
           {
            "colorbar": {
             "outlinewidth": 0,
             "ticks": ""
            },
            "colorscale": [
             [
              0,
              "#0d0887"
             ],
             [
              0.1111111111111111,
              "#46039f"
             ],
             [
              0.2222222222222222,
              "#7201a8"
             ],
             [
              0.3333333333333333,
              "#9c179e"
             ],
             [
              0.4444444444444444,
              "#bd3786"
             ],
             [
              0.5555555555555556,
              "#d8576b"
             ],
             [
              0.6666666666666666,
              "#ed7953"
             ],
             [
              0.7777777777777778,
              "#fb9f3a"
             ],
             [
              0.8888888888888888,
              "#fdca26"
             ],
             [
              1,
              "#f0f921"
             ]
            ],
            "type": "heatmap"
           }
          ],
          "heatmapgl": [
           {
            "colorbar": {
             "outlinewidth": 0,
             "ticks": ""
            },
            "colorscale": [
             [
              0,
              "#0d0887"
             ],
             [
              0.1111111111111111,
              "#46039f"
             ],
             [
              0.2222222222222222,
              "#7201a8"
             ],
             [
              0.3333333333333333,
              "#9c179e"
             ],
             [
              0.4444444444444444,
              "#bd3786"
             ],
             [
              0.5555555555555556,
              "#d8576b"
             ],
             [
              0.6666666666666666,
              "#ed7953"
             ],
             [
              0.7777777777777778,
              "#fb9f3a"
             ],
             [
              0.8888888888888888,
              "#fdca26"
             ],
             [
              1,
              "#f0f921"
             ]
            ],
            "type": "heatmapgl"
           }
          ],
          "histogram": [
           {
            "marker": {
             "pattern": {
              "fillmode": "overlay",
              "size": 10,
              "solidity": 0.2
             }
            },
            "type": "histogram"
           }
          ],
          "histogram2d": [
           {
            "colorbar": {
             "outlinewidth": 0,
             "ticks": ""
            },
            "colorscale": [
             [
              0,
              "#0d0887"
             ],
             [
              0.1111111111111111,
              "#46039f"
             ],
             [
              0.2222222222222222,
              "#7201a8"
             ],
             [
              0.3333333333333333,
              "#9c179e"
             ],
             [
              0.4444444444444444,
              "#bd3786"
             ],
             [
              0.5555555555555556,
              "#d8576b"
             ],
             [
              0.6666666666666666,
              "#ed7953"
             ],
             [
              0.7777777777777778,
              "#fb9f3a"
             ],
             [
              0.8888888888888888,
              "#fdca26"
             ],
             [
              1,
              "#f0f921"
             ]
            ],
            "type": "histogram2d"
           }
          ],
          "histogram2dcontour": [
           {
            "colorbar": {
             "outlinewidth": 0,
             "ticks": ""
            },
            "colorscale": [
             [
              0,
              "#0d0887"
             ],
             [
              0.1111111111111111,
              "#46039f"
             ],
             [
              0.2222222222222222,
              "#7201a8"
             ],
             [
              0.3333333333333333,
              "#9c179e"
             ],
             [
              0.4444444444444444,
              "#bd3786"
             ],
             [
              0.5555555555555556,
              "#d8576b"
             ],
             [
              0.6666666666666666,
              "#ed7953"
             ],
             [
              0.7777777777777778,
              "#fb9f3a"
             ],
             [
              0.8888888888888888,
              "#fdca26"
             ],
             [
              1,
              "#f0f921"
             ]
            ],
            "type": "histogram2dcontour"
           }
          ],
          "mesh3d": [
           {
            "colorbar": {
             "outlinewidth": 0,
             "ticks": ""
            },
            "type": "mesh3d"
           }
          ],
          "parcoords": [
           {
            "line": {
             "colorbar": {
              "outlinewidth": 0,
              "ticks": ""
             }
            },
            "type": "parcoords"
           }
          ],
          "pie": [
           {
            "automargin": true,
            "type": "pie"
           }
          ],
          "scatter": [
           {
            "fillpattern": {
             "fillmode": "overlay",
             "size": 10,
             "solidity": 0.2
            },
            "type": "scatter"
           }
          ],
          "scatter3d": [
           {
            "line": {
             "colorbar": {
              "outlinewidth": 0,
              "ticks": ""
             }
            },
            "marker": {
             "colorbar": {
              "outlinewidth": 0,
              "ticks": ""
             }
            },
            "type": "scatter3d"
           }
          ],
          "scattercarpet": [
           {
            "marker": {
             "colorbar": {
              "outlinewidth": 0,
              "ticks": ""
             }
            },
            "type": "scattercarpet"
           }
          ],
          "scattergeo": [
           {
            "marker": {
             "colorbar": {
              "outlinewidth": 0,
              "ticks": ""
             }
            },
            "type": "scattergeo"
           }
          ],
          "scattergl": [
           {
            "marker": {
             "colorbar": {
              "outlinewidth": 0,
              "ticks": ""
             }
            },
            "type": "scattergl"
           }
          ],
          "scattermapbox": [
           {
            "marker": {
             "colorbar": {
              "outlinewidth": 0,
              "ticks": ""
             }
            },
            "type": "scattermapbox"
           }
          ],
          "scatterpolar": [
           {
            "marker": {
             "colorbar": {
              "outlinewidth": 0,
              "ticks": ""
             }
            },
            "type": "scatterpolar"
           }
          ],
          "scatterpolargl": [
           {
            "marker": {
             "colorbar": {
              "outlinewidth": 0,
              "ticks": ""
             }
            },
            "type": "scatterpolargl"
           }
          ],
          "scatterternary": [
           {
            "marker": {
             "colorbar": {
              "outlinewidth": 0,
              "ticks": ""
             }
            },
            "type": "scatterternary"
           }
          ],
          "surface": [
           {
            "colorbar": {
             "outlinewidth": 0,
             "ticks": ""
            },
            "colorscale": [
             [
              0,
              "#0d0887"
             ],
             [
              0.1111111111111111,
              "#46039f"
             ],
             [
              0.2222222222222222,
              "#7201a8"
             ],
             [
              0.3333333333333333,
              "#9c179e"
             ],
             [
              0.4444444444444444,
              "#bd3786"
             ],
             [
              0.5555555555555556,
              "#d8576b"
             ],
             [
              0.6666666666666666,
              "#ed7953"
             ],
             [
              0.7777777777777778,
              "#fb9f3a"
             ],
             [
              0.8888888888888888,
              "#fdca26"
             ],
             [
              1,
              "#f0f921"
             ]
            ],
            "type": "surface"
           }
          ],
          "table": [
           {
            "cells": {
             "fill": {
              "color": "#EBF0F8"
             },
             "line": {
              "color": "white"
             }
            },
            "header": {
             "fill": {
              "color": "#C8D4E3"
             },
             "line": {
              "color": "white"
             }
            },
            "type": "table"
           }
          ]
         },
         "layout": {
          "annotationdefaults": {
           "arrowcolor": "#2a3f5f",
           "arrowhead": 0,
           "arrowwidth": 1
          },
          "autotypenumbers": "strict",
          "coloraxis": {
           "colorbar": {
            "outlinewidth": 0,
            "ticks": ""
           }
          },
          "colorscale": {
           "diverging": [
            [
             0,
             "#8e0152"
            ],
            [
             0.1,
             "#c51b7d"
            ],
            [
             0.2,
             "#de77ae"
            ],
            [
             0.3,
             "#f1b6da"
            ],
            [
             0.4,
             "#fde0ef"
            ],
            [
             0.5,
             "#f7f7f7"
            ],
            [
             0.6,
             "#e6f5d0"
            ],
            [
             0.7,
             "#b8e186"
            ],
            [
             0.8,
             "#7fbc41"
            ],
            [
             0.9,
             "#4d9221"
            ],
            [
             1,
             "#276419"
            ]
           ],
           "sequential": [
            [
             0,
             "#0d0887"
            ],
            [
             0.1111111111111111,
             "#46039f"
            ],
            [
             0.2222222222222222,
             "#7201a8"
            ],
            [
             0.3333333333333333,
             "#9c179e"
            ],
            [
             0.4444444444444444,
             "#bd3786"
            ],
            [
             0.5555555555555556,
             "#d8576b"
            ],
            [
             0.6666666666666666,
             "#ed7953"
            ],
            [
             0.7777777777777778,
             "#fb9f3a"
            ],
            [
             0.8888888888888888,
             "#fdca26"
            ],
            [
             1,
             "#f0f921"
            ]
           ],
           "sequentialminus": [
            [
             0,
             "#0d0887"
            ],
            [
             0.1111111111111111,
             "#46039f"
            ],
            [
             0.2222222222222222,
             "#7201a8"
            ],
            [
             0.3333333333333333,
             "#9c179e"
            ],
            [
             0.4444444444444444,
             "#bd3786"
            ],
            [
             0.5555555555555556,
             "#d8576b"
            ],
            [
             0.6666666666666666,
             "#ed7953"
            ],
            [
             0.7777777777777778,
             "#fb9f3a"
            ],
            [
             0.8888888888888888,
             "#fdca26"
            ],
            [
             1,
             "#f0f921"
            ]
           ]
          },
          "colorway": [
           "#636efa",
           "#EF553B",
           "#00cc96",
           "#ab63fa",
           "#FFA15A",
           "#19d3f3",
           "#FF6692",
           "#B6E880",
           "#FF97FF",
           "#FECB52"
          ],
          "font": {
           "color": "#2a3f5f"
          },
          "geo": {
           "bgcolor": "white",
           "lakecolor": "white",
           "landcolor": "#E5ECF6",
           "showlakes": true,
           "showland": true,
           "subunitcolor": "white"
          },
          "hoverlabel": {
           "align": "left"
          },
          "hovermode": "closest",
          "mapbox": {
           "style": "light"
          },
          "paper_bgcolor": "white",
          "plot_bgcolor": "#E5ECF6",
          "polar": {
           "angularaxis": {
            "gridcolor": "white",
            "linecolor": "white",
            "ticks": ""
           },
           "bgcolor": "#E5ECF6",
           "radialaxis": {
            "gridcolor": "white",
            "linecolor": "white",
            "ticks": ""
           }
          },
          "scene": {
           "xaxis": {
            "backgroundcolor": "#E5ECF6",
            "gridcolor": "white",
            "gridwidth": 2,
            "linecolor": "white",
            "showbackground": true,
            "ticks": "",
            "zerolinecolor": "white"
           },
           "yaxis": {
            "backgroundcolor": "#E5ECF6",
            "gridcolor": "white",
            "gridwidth": 2,
            "linecolor": "white",
            "showbackground": true,
            "ticks": "",
            "zerolinecolor": "white"
           },
           "zaxis": {
            "backgroundcolor": "#E5ECF6",
            "gridcolor": "white",
            "gridwidth": 2,
            "linecolor": "white",
            "showbackground": true,
            "ticks": "",
            "zerolinecolor": "white"
           }
          },
          "shapedefaults": {
           "line": {
            "color": "#2a3f5f"
           }
          },
          "ternary": {
           "aaxis": {
            "gridcolor": "white",
            "linecolor": "white",
            "ticks": ""
           },
           "baxis": {
            "gridcolor": "white",
            "linecolor": "white",
            "ticks": ""
           },
           "bgcolor": "#E5ECF6",
           "caxis": {
            "gridcolor": "white",
            "linecolor": "white",
            "ticks": ""
           }
          },
          "title": {
           "x": 0.05
          },
          "xaxis": {
           "automargin": true,
           "gridcolor": "white",
           "linecolor": "white",
           "ticks": "",
           "title": {
            "standoff": 15
           },
           "zerolinecolor": "white",
           "zerolinewidth": 2
          },
          "yaxis": {
           "automargin": true,
           "gridcolor": "white",
           "linecolor": "white",
           "ticks": "",
           "title": {
            "standoff": 15
           },
           "zerolinecolor": "white",
           "zerolinewidth": 2
          }
         }
        },
        "title": {
         "text": "Child Mortality and Medical Doctor density"
        },
        "xaxis": {
         "anchor": "y",
         "autorange": true,
         "domain": [
          0,
          1
         ],
         "range": [
          -4.92288787121843,
          89.42788787121843
         ],
         "title": {
          "text": "Medical Doctors per 10k inhabitants"
         },
         "type": "linear"
        },
        "yaxis": {
         "anchor": "x",
         "autorange": true,
         "domain": [
          0,
          1
         ],
         "range": [
          -5.611226927252987,
          122.53122692725299
         ],
         "title": {
          "text": "Infant mortality per 1000 live births"
         },
         "type": "linear"
        }
       }
      },
      "image/png": "[encoded data removed]",
      "text/html": [
       "<div>                            <div id=\"2a2ca3f9-c983-413b-9568-00f595522df8\" class=\"plotly-graph-div\" style=\"height:700px; width:100%;\"></div>            <script type=\"text/javascript\">                require([\"plotly\"], function(Plotly) {                    window.PLOTLYENV=window.PLOTLYENV || {};                                    if (document.getElementById(\"2a2ca3f9-c983-413b-9568-00f595522df8\")) {                    Plotly.newPlot(                        \"2a2ca3f9-c983-413b-9568-00f595522df8\",                        [{\"customdata\":[[\"Chad\"],[\"Togo\"],[\"Papua New Guinea\"],[\"Burundi\"],[\"Mozambique\"],[\"Cameroon\"],[\"Tonga\"],[\"Sri Lanka\"],[\"Peru\"],[\"Brunei Darussalam\"],[\"Guinea-Bissau\"],[\"Kenya\"],[\"Zambia\"],[\"Brazil\"],[\"Colombia\"],[\"Canada\"],[\"Montenegro\"],[\"Costa Rica\"],[\"Saudi Arabia\"],[\"El Salvador\"],[\"Chile\"],[\"Lao People's Democratic Republic\"],[\"Nigeria\"],[\"United Kingdom of Great Britain and Northern Ireland\"],[\"Paraguay\"],[\"Hungary\"],[\"Trinidad and Tobago\"],[\"New Zealand\"],[\"Israel\"],[\"Ireland\"],[\"Italy\"],[\"Switzerland\"],[\"Germany\"],[\"Slovakia\"],[\"Lithuania\"],[\"Bhutan\"],[\"Norway\"],[\"Cyprus\"],[\"Georgia\"],[\"Austria\"],[\"Czechia\"],[\"Malta\"],[\"Bangladesh\"],[\"Indonesia\"],[\"Uruguay\"],[\"Belgium\"],[\"Philippines\"],[\"South Africa\"],[\"Nepal\"],[\"Niger\"],[\"Malawi\"],[\"Sierra Leone\"],[\"Gambia\"],[\"Eritrea\"],[\"Senegal\"],[\"Ethiopia\"],[\"Eswatini\"],[\"Uganda\"],[\"Ghana\"],[\"Zimbabwe\"],[\"Tuvalu\"],[\"Guatemala\"],[\"Guyana\"],[\"Panama\"],[\"Palau\"],[\"Albania\"],[\"Oman\"],[\"Afghanistan\"],[\"T\\u00fcrkiye\"],[\"Malaysia\"],[\"Kuwait\"],[\"China\"],[\"Mexico\"],[\"Republic of Korea\"],[\"Japan\"],[\"Mauritius\"],[\"United Arab Emirates\"],[\"Slovenia\"],[\"France\"],[\"Latvia\"],[\"United States of America\"],[\"Poland\"],[\"Russian Federation\"],[\"Netherlands\"],[\"Estonia\"],[\"Argentina\"],[\"Honduras\"],[\"Kazakhstan\"],[\"Republic of Moldova\"],[\"Australia\"],[\"Finland\"],[\"Spain\"],[\"Samoa\"],[\"Gabon\"],[\"Portugal\"],[\"Greece\"],[\"India\"],[\"Timor-Leste\"],[\"Sweden\"],[\"Iraq\"],[\"Thailand\"],[\"Micronesia (Federated States of)\"],[\"Benin\"],[\"Burkina Faso\"],[\"Rwanda\"],[\"Vanuatu\"],[\"C\\u00f4te d\\u2019Ivoire\"],[\"Pakistan\"],[\"Cook Islands\"],[\"Dominican Republic\"],[\"Cambodia\"],[\"Seychelles\"],[\"Maldives\"],[\"Kyrgyzstan\"],[\"Singapore\"],[\"Jordan\"],[\"Lebanon\"],[\"Azerbaijan\"],[\"Croatia\"],[\"Iceland\"],[\"Sao Tome and Principe\"],[\"Denmark\"],[\"Belarus\"],[\"Egypt\"],[\"Myanmar\"],[\"South Sudan\"],[\"United Republic of Tanzania\"],[\"Liberia\"],[\"Central African Republic\"],[\"Congo\"],[\"Mali\"],[\"Mauritania\"],[\"Madagascar\"],[\"Belize\"],[\"Dominica\"],[\"Grenada\"],[\"Iran (Islamic Republic of)\"],[\"Algeria\"],[\"Angola\"],[\"Guinea\"],[\"Haiti\"],[\"Comoros\"],[\"Occupied Palestinian territory\"],[\"Qatar\"],[\"Botswana\"],[\"Democratic Republic of the Congo\"],[\"Saint Kitts and Nevis\"],[\"Mongolia\"],[\"Lesotho\"],[\"Bulgaria\"],[\"Jamaica\"],[\"Namibia\"],[\"Nicaragua\"],[\"Cabo Verde\"],[\"Suriname\"],[\"Cuba\"],[\"Bolivia (Plurinational State of)\"],[\"Tunisia\"],[\"Venezuela (Bolivarian Republic of)\"],[\"Bahamas\"],[\"Sudan\"],[\"Libya\"],[\"Ecuador\"],[\"Barbados\"],[\"Antigua and Barbuda\"],[\"Romania\"],[\"Luxembourg\"],[\"Equatorial Guinea\"],[\"Democratic People's Republic of Korea\"],[\"Armenia\"],[\"Saint Lucia\"],[\"Morocco\"],[\"Solomon Islands\"],[\"Syrian Arab Republic\"],[\"Serbia\"],[\"Viet Nam\"],[\"Bahrain\"],[\"Nauru\"],[\"Bosnia and Herzegovina\"],[\"The former Yugoslav Republic of Macedonia\"],[\"Andorra\"],[\"Fiji\"],[\"Somalia\"],[\"Tajikistan\"],[\"Djibouti\"],[\"Yemen\"],[\"Turkmenistan\"],[\"Uzbekistan\"],[\"Ukraine\"],[\"San Marino\"],[\"Monaco\"],[\"Kiribati\"],[\"Marshall Islands\"],[\"Saint Vincent and the Grenadines\"],[\"Niue\"]],\"hovertemplate\":\"Medical Doctors per 10k inhabitants=%{x}\\u003cbr\\u003eInfant mortality per 1000 live births=%{y}\\u003cbr\\u003eLocation=%{customdata[0]}\\u003cextra\\u003e\\u003c\\u002fextra\\u003e\",\"legendgroup\":\"\",\"marker\":{\"color\":\"#636efa\",\"symbol\":\"circle\"},\"mode\":\"markers\",\"name\":\"\",\"orientation\":\"v\",\"showlegend\":false,\"x\":[0.582,0.585,0.629,0.647,0.814,1.242,10.094,11.924,16.455,19.129,2.198,2.26,2.965,21.42,23.615,24.636,27.68,27.703,27.885,29.13,29.729,3.265,3.949,31.711,32.42,32.906,34.115,35.162,36.539,40.622,41.263,44.427,45.184,46.292,49.503,5.595,51.684,53.753,54.047,54.589,54.686,54.851,6.7,6.95,62.0,62.574,7.862,8.085,8.674,0.343,0.494,0.7,0.773,0.818,0.842,1.039,1.397,1.583,1.642,1.887,12.613,12.802,14.049,16.291,17.778,18.826,19.937,2.535,20.355,22.281,22.934,23.873,24.405,25.078,26.141,26.583,28.788,32.792,33.237,33.451,35.55,37.137,38.271,38.355,38.634,38.951,4.893,40.277,40.573,41.018,43.252,45.766,5.537,5.941,56.152,63.06,7.265,7.669,70.616,9.132,9.276,9.634,0.621,0.912,1.162,1.577,1.596,10.842,13.45,14.327,2.143,21.073,21.606,21.679,24.34,25.129,26.17,31.105,34.655,38.914,4.893,42.642,44.343,7.094,7.509,0.395,0.497,0.503,0.658,1.0,1.231,1.922,1.948,10.809,11.158,13.136,15.138,17.317,2.108,2.22,2.366,2.834,21.677,24.986,3.48,3.622,30.335,38.594,4.54,41.682,5.498,6.007,6.637,7.913,7.95,84.273,10.081,12.608,16.643,18.546,2.626,21.568,22.317,25.501,28.979,29.739,29.851,3.495,36.709,45.457,6.546,7.319,1.911,11.856,36.784,8.326,8.42,12.5,21.034,28.344,36.262,8.144,0.232,17.077,2.032,2.936,21.474,23.726,29.898,60.18,77.562,1.942,4.598,9.436,16.667],\"xaxis\":\"x\",\"y\":[107.1,62.6,42.81,52.6,69.56,69.79,11.14,6.75,14.12,11.48,74.31,37.15,57.69,14.41,12.85,5.04,2.26,7.65,6.72,12.43,6.55,42.51,110.8,4.19,18.16,4.0,16.33,4.73,3.36,3.15,2.61,3.83,3.57,5.63,3.31,26.69,2.17,2.79,9.48,3.66,2.75,5.83,27.27,22.17,5.82,4.1,25.74,32.85,27.16,115.2,41.9,104.7,47.89,38.09,38.6,46.81,52.63,42.13,43.97,49.52,21.25,23.02,27.68,13.87,16.25,9.46,10.14,55.66,8.98,7.56,8.73,6.93,13.24,2.89,2.3,16.62,6.37,2.17,4.35,3.68,6.24,4.35,5.05,4.05,2.0,6.92,16.56,10.27,14.2,3.71,2.17,3.05,16.72,39.75,3.1,3.71,30.62,50.55,2.46,24.52,8.29,24.85,83.52,82.61,39.44,23.21,74.79,63.33,7.17,33.0,24.76,13.91,5.96,17.4,2.09,14.6,8.24,18.59,4.64,2.64,15.43,3.58,2.72,18.96,41.81,98.69,47.12,76.04,99.92,42.97,97.07,40.5,66.0,11.19,35.89,16.18,12.63,22.34,69.42,98.73,58.63,49.72,14.83,5.31,34.87,78.96,14.56,14.73,72.93,6.32,12.4,39.04,13.26,13.55,17.18,5.0,24.69,16.32,24.23,13.16,54.9,10.77,12.46,11.91,6.14,6.43,2.73,76.78,15.4,10.72,24.82,18.0,18.79,22.27,5.49,20.6,6.92,27.59,5.6,5.31,2.76,27.73,111.8,31.42,54.14,61.91,41.43,14.07,8.22,1.72,2.92,48.23,29.73,13.71,24.13],\"yaxis\":\"y\",\"type\":\"scatter\"}],                        {\"template\":{\"data\":{\"histogram2dcontour\":[{\"type\":\"histogram2dcontour\",\"colorbar\":{\"outlinewidth\":0,\"ticks\":\"\"},\"colorscale\":[[0.0,\"#0d0887\"],[0.1111111111111111,\"#46039f\"],[0.2222222222222222,\"#7201a8\"],[0.3333333333333333,\"#9c179e\"],[0.4444444444444444,\"#bd3786\"],[0.5555555555555556,\"#d8576b\"],[0.6666666666666666,\"#ed7953\"],[0.7777777777777778,\"#fb9f3a\"],[0.8888888888888888,\"#fdca26\"],[1.0,\"#f0f921\"]]}],\"choropleth\":[{\"type\":\"choropleth\",\"colorbar\":{\"outlinewidth\":0,\"ticks\":\"\"}}],\"histogram2d\":[{\"type\":\"histogram2d\",\"colorbar\":{\"outlinewidth\":0,\"ticks\":\"\"},\"colorscale\":[[0.0,\"#0d0887\"],[0.1111111111111111,\"#46039f\"],[0.2222222222222222,\"#7201a8\"],[0.3333333333333333,\"#9c179e\"],[0.4444444444444444,\"#bd3786\"],[0.5555555555555556,\"#d8576b\"],[0.6666666666666666,\"#ed7953\"],[0.7777777777777778,\"#fb9f3a\"],[0.8888888888888888,\"#fdca26\"],[1.0,\"#f0f921\"]]}],\"heatmap\":[{\"type\":\"heatmap\",\"colorbar\":{\"outlinewidth\":0,\"ticks\":\"\"},\"colorscale\":[[0.0,\"#0d0887\"],[0.1111111111111111,\"#46039f\"],[0.2222222222222222,\"#7201a8\"],[0.3333333333333333,\"#9c179e\"],[0.4444444444444444,\"#bd3786\"],[0.5555555555555556,\"#d8576b\"],[0.6666666666666666,\"#ed7953\"],[0.7777777777777778,\"#fb9f3a\"],[0.8888888888888888,\"#fdca26\"],[1.0,\"#f0f921\"]]}],\"heatmapgl\":[{\"type\":\"heatmapgl\",\"colorbar\":{\"outlinewidth\":0,\"ticks\":\"\"},\"colorscale\":[[0.0,\"#0d0887\"],[0.1111111111111111,\"#46039f\"],[0.2222222222222222,\"#7201a8\"],[0.3333333333333333,\"#9c179e\"],[0.4444444444444444,\"#bd3786\"],[0.5555555555555556,\"#d8576b\"],[0.6666666666666666,\"#ed7953\"],[0.7777777777777778,\"#fb9f3a\"],[0.8888888888888888,\"#fdca26\"],[1.0,\"#f0f921\"]]}],\"contourcarpet\":[{\"type\":\"contourcarpet\",\"colorbar\":{\"outlinewidth\":0,\"ticks\":\"\"}}],\"contour\":[{\"type\":\"contour\",\"colorbar\":{\"outlinewidth\":0,\"ticks\":\"\"},\"colorscale\":[[0.0,\"#0d0887\"],[0.1111111111111111,\"#46039f\"],[0.2222222222222222,\"#7201a8\"],[0.3333333333333333,\"#9c179e\"],[0.4444444444444444,\"#bd3786\"],[0.5555555555555556,\"#d8576b\"],[0.6666666666666666,\"#ed7953\"],[0.7777777777777778,\"#fb9f3a\"],[0.8888888888888888,\"#fdca26\"],[1.0,\"#f0f921\"]]}],\"surface\":[{\"type\":\"surface\",\"colorbar\":{\"outlinewidth\":0,\"ticks\":\"\"},\"colorscale\":[[0.0,\"#0d0887\"],[0.1111111111111111,\"#46039f\"],[0.2222222222222222,\"#7201a8\"],[0.3333333333333333,\"#9c179e\"],[0.4444444444444444,\"#bd3786\"],[0.5555555555555556,\"#d8576b\"],[0.6666666666666666,\"#ed7953\"],[0.7777777777777778,\"#fb9f3a\"],[0.8888888888888888,\"#fdca26\"],[1.0,\"#f0f921\"]]}],\"mesh3d\":[{\"type\":\"mesh3d\",\"colorbar\":{\"outlinewidth\":0,\"ticks\":\"\"}}],\"scatter\":[{\"fillpattern\":{\"fillmode\":\"overlay\",\"size\":10,\"solidity\":0.2},\"type\":\"scatter\"}],\"parcoords\":[{\"type\":\"parcoords\",\"line\":{\"colorbar\":{\"outlinewidth\":0,\"ticks\":\"\"}}}],\"scatterpolargl\":[{\"type\":\"scatterpolargl\",\"marker\":{\"colorbar\":{\"outlinewidth\":0,\"ticks\":\"\"}}}],\"bar\":[{\"error_x\":{\"color\":\"#2a3f5f\"},\"error_y\":{\"color\":\"#2a3f5f\"},\"marker\":{\"line\":{\"color\":\"#E5ECF6\",\"width\":0.5},\"pattern\":{\"fillmode\":\"overlay\",\"size\":10,\"solidity\":0.2}},\"type\":\"bar\"}],\"scattergeo\":[{\"type\":\"scattergeo\",\"marker\":{\"colorbar\":{\"outlinewidth\":0,\"ticks\":\"\"}}}],\"scatterpolar\":[{\"type\":\"scatterpolar\",\"marker\":{\"colorbar\":{\"outlinewidth\":0,\"ticks\":\"\"}}}],\"histogram\":[{\"marker\":{\"pattern\":{\"fillmode\":\"overlay\",\"size\":10,\"solidity\":0.2}},\"type\":\"histogram\"}],\"scattergl\":[{\"type\":\"scattergl\",\"marker\":{\"colorbar\":{\"outlinewidth\":0,\"ticks\":\"\"}}}],\"scatter3d\":[{\"type\":\"scatter3d\",\"line\":{\"colorbar\":{\"outlinewidth\":0,\"ticks\":\"\"}},\"marker\":{\"colorbar\":{\"outlinewidth\":0,\"ticks\":\"\"}}}],\"scattermapbox\":[{\"type\":\"scattermapbox\",\"marker\":{\"colorbar\":{\"outlinewidth\":0,\"ticks\":\"\"}}}],\"scatterternary\":[{\"type\":\"scatterternary\",\"marker\":{\"colorbar\":{\"outlinewidth\":0,\"ticks\":\"\"}}}],\"scattercarpet\":[{\"type\":\"scattercarpet\",\"marker\":{\"colorbar\":{\"outlinewidth\":0,\"ticks\":\"\"}}}],\"carpet\":[{\"aaxis\":{\"endlinecolor\":\"#2a3f5f\",\"gridcolor\":\"white\",\"linecolor\":\"white\",\"minorgridcolor\":\"white\",\"startlinecolor\":\"#2a3f5f\"},\"baxis\":{\"endlinecolor\":\"#2a3f5f\",\"gridcolor\":\"white\",\"linecolor\":\"white\",\"minorgridcolor\":\"white\",\"startlinecolor\":\"#2a3f5f\"},\"type\":\"carpet\"}],\"table\":[{\"cells\":{\"fill\":{\"color\":\"#EBF0F8\"},\"line\":{\"color\":\"white\"}},\"header\":{\"fill\":{\"color\":\"#C8D4E3\"},\"line\":{\"color\":\"white\"}},\"type\":\"table\"}],\"barpolar\":[{\"marker\":{\"line\":{\"color\":\"#E5ECF6\",\"width\":0.5},\"pattern\":{\"fillmode\":\"overlay\",\"size\":10,\"solidity\":0.2}},\"type\":\"barpolar\"}],\"pie\":[{\"automargin\":true,\"type\":\"pie\"}]},\"layout\":{\"autotypenumbers\":\"strict\",\"colorway\":[\"#636efa\",\"#EF553B\",\"#00cc96\",\"#ab63fa\",\"#FFA15A\",\"#19d3f3\",\"#FF6692\",\"#B6E880\",\"#FF97FF\",\"#FECB52\"],\"font\":{\"color\":\"#2a3f5f\"},\"hovermode\":\"closest\",\"hoverlabel\":{\"align\":\"left\"},\"paper_bgcolor\":\"white\",\"plot_bgcolor\":\"#E5ECF6\",\"polar\":{\"bgcolor\":\"#E5ECF6\",\"angularaxis\":{\"gridcolor\":\"white\",\"linecolor\":\"white\",\"ticks\":\"\"},\"radialaxis\":{\"gridcolor\":\"white\",\"linecolor\":\"white\",\"ticks\":\"\"}},\"ternary\":{\"bgcolor\":\"#E5ECF6\",\"aaxis\":{\"gridcolor\":\"white\",\"linecolor\":\"white\",\"ticks\":\"\"},\"baxis\":{\"gridcolor\":\"white\",\"linecolor\":\"white\",\"ticks\":\"\"},\"caxis\":{\"gridcolor\":\"white\",\"linecolor\":\"white\",\"ticks\":\"\"}},\"coloraxis\":{\"colorbar\":{\"outlinewidth\":0,\"ticks\":\"\"}},\"colorscale\":{\"sequential\":[[0.0,\"#0d0887\"],[0.1111111111111111,\"#46039f\"],[0.2222222222222222,\"#7201a8\"],[0.3333333333333333,\"#9c179e\"],[0.4444444444444444,\"#bd3786\"],[0.5555555555555556,\"#d8576b\"],[0.6666666666666666,\"#ed7953\"],[0.7777777777777778,\"#fb9f3a\"],[0.8888888888888888,\"#fdca26\"],[1.0,\"#f0f921\"]],\"sequentialminus\":[[0.0,\"#0d0887\"],[0.1111111111111111,\"#46039f\"],[0.2222222222222222,\"#7201a8\"],[0.3333333333333333,\"#9c179e\"],[0.4444444444444444,\"#bd3786\"],[0.5555555555555556,\"#d8576b\"],[0.6666666666666666,\"#ed7953\"],[0.7777777777777778,\"#fb9f3a\"],[0.8888888888888888,\"#fdca26\"],[1.0,\"#f0f921\"]],\"diverging\":[[0,\"#8e0152\"],[0.1,\"#c51b7d\"],[0.2,\"#de77ae\"],[0.3,\"#f1b6da\"],[0.4,\"#fde0ef\"],[0.5,\"#f7f7f7\"],[0.6,\"#e6f5d0\"],[0.7,\"#b8e186\"],[0.8,\"#7fbc41\"],[0.9,\"#4d9221\"],[1,\"#276419\"]]},\"xaxis\":{\"gridcolor\":\"white\",\"linecolor\":\"white\",\"ticks\":\"\",\"title\":{\"standoff\":15},\"zerolinecolor\":\"white\",\"automargin\":true,\"zerolinewidth\":2},\"yaxis\":{\"gridcolor\":\"white\",\"linecolor\":\"white\",\"ticks\":\"\",\"title\":{\"standoff\":15},\"zerolinecolor\":\"white\",\"automargin\":true,\"zerolinewidth\":2},\"scene\":{\"xaxis\":{\"backgroundcolor\":\"#E5ECF6\",\"gridcolor\":\"white\",\"linecolor\":\"white\",\"showbackground\":true,\"ticks\":\"\",\"zerolinecolor\":\"white\",\"gridwidth\":2},\"yaxis\":{\"backgroundcolor\":\"#E5ECF6\",\"gridcolor\":\"white\",\"linecolor\":\"white\",\"showbackground\":true,\"ticks\":\"\",\"zerolinecolor\":\"white\",\"gridwidth\":2},\"zaxis\":{\"backgroundcolor\":\"#E5ECF6\",\"gridcolor\":\"white\",\"linecolor\":\"white\",\"showbackground\":true,\"ticks\":\"\",\"zerolinecolor\":\"white\",\"gridwidth\":2}},\"shapedefaults\":{\"line\":{\"color\":\"#2a3f5f\"}},\"annotationdefaults\":{\"arrowcolor\":\"#2a3f5f\",\"arrowhead\":0,\"arrowwidth\":1},\"geo\":{\"bgcolor\":\"white\",\"landcolor\":\"#E5ECF6\",\"subunitcolor\":\"white\",\"showland\":true,\"showlakes\":true,\"lakecolor\":\"white\"},\"title\":{\"x\":0.05},\"mapbox\":{\"style\":\"light\"}}},\"xaxis\":{\"anchor\":\"y\",\"domain\":[0.0,1.0],\"title\":{\"text\":\"Medical Doctors per 10k inhabitants\"}},\"yaxis\":{\"anchor\":\"x\",\"domain\":[0.0,1.0],\"title\":{\"text\":\"Infant mortality per 1000 live births\"}},\"legend\":{\"tracegroupgap\":0},\"title\":{\"text\":\"Child Mortality and Medical Doctor density\"},\"height\":700},                        {\"responsive\": true}                    ).then(function(){\n",
       "                            \n",
       "var gd = document.getElementById('2a2ca3f9-c983-413b-9568-00f595522df8');\n",
       "var x = new MutationObserver(function (mutations, observer) {{\n",
       "        var display = window.getComputedStyle(gd).display;\n",
       "        if (!display || display === 'none') {{\n",
       "            console.log([gd, 'removed!']);\n",
       "            Plotly.purge(gd);\n",
       "            observer.disconnect();\n",
       "        }}\n",
       "}});\n",
       "\n",
       "// Listen for the removal of the full notebook cells\n",
       "var notebookContainer = gd.closest('#notebook-container');\n",
       "if (notebookContainer) {{\n",
       "    x.observe(notebookContainer, {childList: true});\n",
       "}}\n",
       "\n",
       "// Listen for the clearing of the current output cell\n",
       "var outputEl = gd.closest('.output');\n",
       "if (outputEl) {{\n",
       "    x.observe(outputEl, {childList: true});\n",
       "}}\n",
       "\n",
       "                        })                };                });            </script>        </div>"
      ]
     },
     "metadata": {},
     "output_type": "display_data"
    }
   ],
   "source": [
    "## scatter plot MD and infant mortality\n",
    "\n",
    "fig = px.scatter(WHO_data, x=\"Medical Doctors per 10k inhabitants\", y=\"Infant mortality per 1000 live births\",\n",
    "                hover_data=['Location'], title = \"Child Mortality and Medical Doctor density\")\n",
    "\n",
    "fig.update_layout(height = 700)\n",
    "fig.show()\n"
   ]
  },
  {
   "cell_type": "code",
   "execution_count": null,
   "id": "01831c92-f850-455e-9557-1a78eddb2220",
   "metadata": {
    "editable": true,
    "slideshow": {
     "slide_type": ""
    },
    "tags": []
   },
   "outputs": [],
   "source": []
  }
 ],
 "metadata": {
  "kernelspec": {
   "display_name": "VIZ",
   "language": "python",
   "name": "viz"
  },
  "language_info": {
   "codemirror_mode": {
    "name": "ipython",
    "version": 3
   },
   "file_extension": ".py",
   "mimetype": "text/x-python",
   "name": "python",
   "nbconvert_exporter": "python",
   "pygments_lexer": "ipython3",
   "version": "3.10.13"
  }
 },
 "nbformat": 4,
 "nbformat_minor": 5
}
