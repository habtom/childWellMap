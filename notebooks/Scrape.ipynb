{
 "cells": [
  {
   "cell_type": "code",
   "execution_count": 6,
   "id": "a878f345-28bf-49ce-b124-1f285ff53876",
   "metadata": {},
   "outputs": [],
   "source": [
    "%run imports.ipynb\n",
    "%run countries.ipynb"
   ]
  },
  {
   "cell_type": "code",
   "execution_count": 13,
   "id": "399e036f-a045-424d-b4af-bbd666006de6",
   "metadata": {},
   "outputs": [],
   "source": [
    "# Scrape Wikipedia for countries and medical facilities\n",
    "url_wikipedia = \"https://en.wikipedia.org/wiki/Lists_of_hospitals_in_Africa\"\n",
    "response_wikipedia = requests.get(url_wikipedia)\n",
    "soup_wikipedia = BeautifulSoup(response_wikipedia.content, 'html.parser')\n",
    "table_wikipedia = soup_wikipedia.find('table', {'class': 'wikitable'})\n",
    "\n",
    "data_wikipedia = []\n",
    "if table_wikipedia:\n",
    "    for row in table_wikipedia.find_all('tr')[1:]:\n",
    "        cols = row.find_all('td')\n",
    "        if cols:\n",
    "            country_name = cols[0].text.strip()\n",
    "            facilities = cols[3].text.strip().replace(',', '')\n",
    "            for key, variations in countries.items():\n",
    "                if country_name in variations:\n",
    "                    data_wikipedia.append({\"Country\": key, \"Medical Facilities\": facilities})\n",
    "\n",
    "# Scrape Worldometers for population data\n",
    "url_worldometers = \"https://www.worldometers.info/world-population/population-by-country/\"\n",
    "response_worldometers = requests.get(url_worldometers)\n",
    "soup_worldometers = BeautifulSoup(response_worldometers.content, 'html.parser')\n",
    "rows_worldometers = soup_worldometers.find_all('tr')\n",
    "\n",
    "data_population = []\n",
    "for row in rows_worldometers:\n",
    "    cols = row.find_all('td')\n",
    "    if cols:\n",
    "        country_name = cols[1].text.strip()\n",
    "        population = cols[2].text.strip().replace(',', '')\n",
    "        for key, variations in countries.items():\n",
    "            if country_name in variations:\n",
    "                data_population.append({\"Country\": key, \"Population\": population})\n",
    "\n",
    "# Convert to DataFrame for merging (easy)\n",
    "df_wikipedia = pd.DataFrame(data_wikipedia)\n",
    "df_population = pd.DataFrame(data_population)\n",
    "\n",
    "# Merge data on country name\n",
    "merged_data = pd.merge(df_wikipedia, df_population, on=\"Country\")\n",
    "\n",
    "# Write to CSV\n",
    "csvMFP2023 = 'medicalFacilitiesPopulation2023.csv'\n",
    "merged_data.to_csv(csvMFP2023, index=False, encoding='utf-8')\n",
    "\n",
    "#print(f'Data successfully saved to {csvMFP2023}.')\n",
    "\n",
    "dfMFP2023 = pd.read_csv(csvMFP2023)"
   ]
  },
  {
   "cell_type": "code",
   "execution_count": 14,
   "id": "61a27c0c-5843-4243-972e-006feb65ebe3",
   "metadata": {
    "editable": true,
    "slideshow": {
     "slide_type": ""
    },
    "tags": []
   },
   "outputs": [],
   "source": [
    "#Adding Density Med Fac 2023\n",
    "dfMFP2023['Density Med Fac (100,000 pop)'] = dfMFP2023['Medical Facilities']/(dfMFP2023['Population']/100000)"
   ]
  }
 ],
 "metadata": {
  "kernelspec": {
   "display_name": "Python 3 (ipykernel)",
   "language": "python",
   "name": "python3"
  },
  "language_info": {
   "codemirror_mode": {
    "name": "ipython",
    "version": 3
   },
   "file_extension": ".py",
   "mimetype": "text/x-python",
   "name": "python",
   "nbconvert_exporter": "python",
   "pygments_lexer": "ipython3",
   "version": "3.11.7"
  }
 },
 "nbformat": 4,
 "nbformat_minor": 5
}
